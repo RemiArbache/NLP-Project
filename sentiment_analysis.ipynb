{
  "nbformat": 4,
  "nbformat_minor": 0,
  "metadata": {
    "colab": {
      "name": "sentiment-analysis.ipynb",
      "provenance": [],
      "collapsed_sections": [],
      "toc_visible": true,
      "mount_file_id": "1ADMjTDnOV_O5HzHUbjrAXD-dRP5zG9WK",
      "authorship_tag": "ABX9TyN1mFMFG8ayj0mzrFLyyslj",
      "include_colab_link": true
    },
    "kernelspec": {
      "name": "python3",
      "display_name": "Python 3"
    },
    "accelerator": "TPU"
  },
  "cells": [
    {
      "cell_type": "markdown",
      "metadata": {
        "id": "view-in-github",
        "colab_type": "text"
      },
      "source": [
        "<a href=\"https://colab.research.google.com/github/RemiArbache/NLP-Project/blob/main/sentiment_analysis.ipynb\" target=\"_parent\"><img src=\"https://colab.research.google.com/assets/colab-badge.svg\" alt=\"Open In Colab\"/></a>"
      ]
    },
    {
      "cell_type": "markdown",
      "metadata": {
        "id": "jB7ONmrO1Dcb"
      },
      "source": [
        "# Sentiment Analysis \r\n"
      ]
    },
    {
      "cell_type": "markdown",
      "metadata": {
        "id": "GNjI5YDzczzS"
      },
      "source": [
        "Sommaire disponible ici :\r\n",
        "\r\n",
        " ![image.png](data:image/png;base64,iVBORw0KGgoAAAANSUhEUgAAAToAAADPCAYAAABlah1CAAAgAElEQVR4nO2df1AUZ7rvrVNnK3Xyw+SaTaWyxzqplOfk7HqTayWbpHpPMrAZIiw3imQVAhmOJYeYUWLJglk2SBJ01hV02WAOQeNOqCAEBGHHBCZLmIOAKAzeSQbSpr2RBHU37ErBEa14oVhrqr73j/4x3TPd8xsH2seqzx9MT3e//b5vf+Z93+fpdsnjjz8BgiAIPbMk3gUgCIKYb5bceeddIAiC0DNLGIYBQRCEniHREQShe0h0BEHoHhIdQRC6h0RHEITuIdERBKF7SHQEQegeEh1BELqHREcQhO4h0REEoXtIdARB6B4SHUEQuodERxCE7iHRxYCXLMn4qyNRwefNCXEvV8QkZyAnLTH+5SA0Sc7IQVpiNMdIRFpOBpIXwLXcDEh0UfI/X3wWd9dm4cu+JODznyr49S+ejnv5wudtDM8C8FxA67p4l2XxU9w/BeA8jsTyuG8Pg2+iVqyL8Bi59m/hAXBtaLf+6kcFEl0UPJnwE9z/25/j7tosPNqQ4Se666d/GvcyBkK9kxWjd9IDz/VhVEc1YphHivsxBeD8kQVQlojqONrr78Wkx4Prw9VIjPAY62rPYRY38K19i/7qRwUSXRSsyP8Z7q7Nkmj8r1Q/2Vktz8S9nFrcrE4Wc2510ekIEt0C58ern8GyQ5kK0T1k9R/V4fOf4oXnfxL38qqxaG9CEp1u0I3onkt8Aq+ZHsZ7hcuxK28FtmSsRHryYyHvvyVjJXblrUBl/oOKY8S7gR4q/N8Kyd1dm4UV+T9DVcnTfqI7+UHwwETiq00YHr+KOQ8AeDB3dRzDLUU+i8XJKGr5EhPX58B/bQ5Xx4fR9KoscCBKoL0SjtEJzN4AAODG7AS+bHqVn+oI31H+m0J/MX+MI+cBTPWjmJH/fRrWpmGMf8cf0DN3FRcdu5DMJGLjgX5cvCqU6cZ3GB86hExFuYXvXJkFv/cNzE6MwlGZKftOMfg+345KxygmvAXHxJdNeDVR9h3fkvcXh9humcpje+ZwfeJLtBQly75zBPzlWtE0PI6rfIPw19tfqbyuTGUde+auY+LLFhQlq9/IWxwTAK5haLd/2XYPXQM84+jc4n/cG7MTGHUcwMZEnzJK152IV5uGMX5V2S+U1+WDz4+FWM6mgP0wEYfOzmms365D6wUPMPsFqhN9+oy8XBf7UZmpUj+ZlXCMTsnOexH9BzZGPDX3ZV5El7P2UbxXuBzcwTvwt9YlqnAH78CuvBWq+z+X+ETQ/f/WugQnKpaFJc1Y8b9e+Kmf5L5/YAOeTOBHbn91JPrJ7t/XBxjVJVbji1kAsxPg+tvR3OzA8OXr8MCD8U5xDSUTR87xn12/PAxHczOaHcO4fN0DeCbRvzNR0YE9Hg88V79Bf7vse5jFF9WJYNbtxO+bm9E9eh3AZXzW3Izm5t9j57oAovN44PFcx+VhB1++iVkAHox/cwGz8s/9yp2Inb0TuAHgxpVRvjzt/Ri9cgPALM4fEWUnSMzjgcdzFd8o6gGY/aIaicw67Px9M5q7R3EdwOXPmtHc3Izf71wXQrul4vCXswBu4MrFITiam9Hez0n111uslIjH4wFmJzDskJdXdl2ph8Ef7gouDjnQ3NyOfu4y+MP1SnWnGLGsa8UFDzB39pDyBk48hLNz4udb0DnuATxX8WfxuKNXcEOqA3/RJVZ/Ab77cMr2FsUZsuhmMTsL3LhyEUPidU/NwQMPJvt38ufePYRrACYcPmt7WxyYkH0u9RnMYmJYeR2e8U5sUdTPNVy96vH2D8cQLl65AeAGJnp3xkR2MRfdrrwVuPLh3wcUlK/wXjM9HPH+f2tdgo933XdTRffAnnQ/0f1o43PS9uJX/s1PdH91BEjXEDrdWIv8FzgTh9rbsWdjoqIzT532afjkQzg7C3i+tSNXdixMncZOeTAh04ZLHmDui2pvOTWmDaqiwxy+bpKPwMrhuq72+W4MXQMw3smXZ0snxj3A3NdNytFQ4nY4xj3A7DDeZmSiwxRO70xU1IONLziqNW5SkcS0HOTm5vogS8PIrESdYhTJgMlswtdz8nrhJYK5r9GUKS9vOVzy62IYZFbWKUYnDMMgs+lrzGEOX1Sr1XEiqr+Y9RsRrWu9AI800uPPf3Vol+y4idjZ5ECdNEJTio4/xxhakuXXdQjt7Xtko0D1PqcUHTD3dYvPPpk4ePaabCQqiPjaEHbLjsePSL3Xpd5nElHOVyI6c5XnnT1/xGcWkIkj52cDyzoMYia65xKfwImKZWEJSqSx5AEwDIPGkgci2l8UZprx8ZhcSyDEdBI5D+xJ9/veyQ8Swkg34SOd8FzH5dEhOGorUJihnHZUfzEH4CI+2eJ7I+ei5rOrAC7Bts7bgS/ZfEc54tTwiPRZWKK77kK52ve0Phf2z+0cB3AVn9X4l3vLJxcBXIerXFa+Sza/lAm/cmqIrlhtXiubkjNMMjZXtGNodBxXvvsOExc5DLVXoGtMXi+8RK67yv3aybdemOTNqGgfwuj4FXz33QQuckNor+jCmMqUUCq7z8iHYbbAwX8gjHLWofacOPIcRn97Dd7MSfMZ1fhMXYt7wXefyxgdcqC2ohAZyYxf+YOLTl5XMtbZcEk+gjx0FnOYw9lDwg+SYkQauG8wfCVK5+HPK/RdjTKOd+ZGfd/GRHTGp59Ed959+D8Vd4ctqCsf/j2eS3wClfkPRiy5v7UuwcDO/4EzW5ZFfS3BUBvNPf6Lt5Hwcr2CzMKDqP7PXyn4zZ7t2sdO3IgDDg7j0jqWB3NTw3hfGNHxv5CB/gmdR3OhPkrRyW/wMD5Xl4/yH19W//KFK7rAiFN/USD8FGlUXI/yEZ3aup/iejOP4Nx1Dz91He5He3MzHEOj0nqUpujEtSxxRLR7CNfgwYVW+Q9TMopahnBx4rqwZgXc+O4iHLvUR3QMwyBx4wE4uHFcka0/Tg2/H+aITisosAtDV+V1xI/axTw+5Yg0cN9QF53WebXbIi6ia8r5R0wU3o6Jwtvh/t1dYQmqMv9BvGZ6OGrJjW2/ExOFt+PjTQ9EfT2B8F2f++eq9/DMr76F8Tf/LyjPZLwV2nkS05Bf049vZ72/9NVfzKn/QgbpwF7iIzp+RKfxix2kfJrljER0Bb2YhMrUn8lF53j4oivonYT/NJsBk9uJ8SAC4Zch+BHR7qFrftNAJcnIeLMF5656gLmzOJQYuIwMwyAxLR81/d9iFipraRp1GM6IjmEYbOkchwcTcGzhxe2bvBye6BbBiO7l5EckyYlw/3mnNFp7r3C5FGnNWfsoduWtwJm3l+JvrUtw5u2lSE9+LGDQ4czbS7ErbwVy1j6K9OTH8JrpYcUUt/eNZZLkRLan/ijqignE8rfScHdtFpZZc/GT1/8vnin+Fj/dNR1QcolFA5rHe6mBw3c3/G+aQ2dvAJ5zqJVuDg8utftEohI3ouXr67hytlaxRrdQRCeu0V1zV/pFkHcNTeL65W5YNMqnWc5IRCfs8+d25Rpd5pHzmEX4ouPL9Ge0K9bohHWloCMlfrrquXQeX8/5yOjNPkzMzfqsbYkR20n0FviW8SU0cN/hhu+aLHMIfPep5f9OzkBuruyRr4jX6MR+x09Xr50/jwn5NDZI31AX3SJYo+vOu89PdBOFt6PzrXuRs/ZRzf0q8x+UUke0prSV+Q9q7p+z9lEcLXzAT3IThbejO29+gxM/Xv0M7q7NwsOVR/D0a3/CM6+PI+HNSRj3XNcU3b89b9Y+5rpanJsFv0YnRqi4CT6Sdq5W+KWUR1057ehlGKLjpxweXD3nQHN7P1ot6p00KtEpoq5CNE8WnZWieeGIToheeq6eg6O5Hf2tlhDaTbYOqogC8pHGsKeusnUxRWR2dhazIUwJ+bqHSqqGUE7cwJVRcUr8Z1xVRHOVZeSfclCWhZuYBTCLc7XrwDC5sH/rAeRTZI0R3eSkRxl1FaLN3nbysnvoGj9NVhmRhic6DzweqERd1c9700WXlvi4quTGtt+FLOOqkI6hFcB4r3B50H2NTz+pev6JwtuRlji/gYl/Ln4FPykcxDO/GIGh6CwSf3kOz+4cxbOl3/iRsOUPwY/plzt1BRf7D/j8uiajqEWWl4QbmPXNAwtDdAyTiUPDQu6SZw7sYfVOGp3oGPB5dA6MTsjWH/3ypMIQHcMg89AwpviCY449HFq7KXK1vLmFTecjEB3DILPSIaRfeNui6dUmnA9BdExiE76GSqoJw4BJfNUnh883P8+/jJmV8vq9gdkr8vpdh9ovr8PjuY7hamUakrKc4+jcXoSWL8V+qJXPKbDzNKY1psfhrtG17OoI0j+iIyrR7UlfoSqZAxseCmn/5xKfUE0l4Q7egecSnwjpGDvX/qtqGfakq+foEcRCYN2R85jDBBwxmJbFgoBrdIH2kdYNFzZRic6a/WBUo6mctY8GTDcJBa1RXaiyJYibj7BGF8XbR2JN2KIT1+ji/PaTUIlKdPJoq3zaGur+WzJWqopOnkAcCmz+PX7lmO/oK0FEijzqGu+yiIQrOm/UNf5lD4W4ik4rrSTcZ1lJdMTiwSePboEQnuiUeXTxLnsoLMipayiBCBGtqas1WztiSxDErUVUoos2EPBc4hOqovtT7W0hl0ErILJz7b/GvXIJglgYRCU6rdHU2Pa7Qh7VicnDak9MBNs3LfFxjG2/S7UMoaa3EAShf6JOGHaa7/WTzIXCO9Cx876Ar1ASn3bQShjufWNZwFFZlnEVPt70gKrkaH2OIAg5UYsuy7jKT3Lyh/sbSx6QggviI1xikjB38A4wDIM/1d7mJznxiQen+V5sT/0R0hIfh/HpJ/Fy8iOwZj+oOZK7GY+AEQSxuIjJQ/3iyGps+11hv8FkV94KRfRV/oB+JDTl/GPcK5UgiIXFgnhNE8Pw76KLVnJO870wPv1k3CuVIIiFRcxevJme/JhmYCEY4huCD2app6uEKrn5fr6VIIjFScxfpR7uCzS5g3coIqxqr30KZbpKIzmCILSYt/8c5+Nd9wX8vx/OvL0UlfkPaj68vyd9heoTD/IUlu68+yiNhCCIoMz7f3eYnvyY9N8Viv9VYc7aR0N+O8n21B9h59p/xYEND8Ga/SD2pK/Ay8mP0AiOIIiQof/AOhrStqKsbCvSQvhunrUPnE3rBZEG5BSXozjHEP9rijUWG7g+K/IYBowhB8XlxcgxiNvTsMNqx+AIB45j4T79B5RvWABl1iCttBG9bhYc1wdrHoO0HVbYB0fAcRxY92n8oXxDSMcJ3BduHQxmK3pYF2x718Mwz+ci0QUkD9Y+Dhznj83CgHnjGEbYThwI4eYM3Lk34mA3C1fjazf3+vKs6OM4sB37kKq2fVsdBjguuptSLrqNB9HNutD4Gr/NUNoCN9uD+pJNyMjIwKbCrciOZ3un7kMHy6G7JltlexnaWBY9tQVIMRphNJTgqJtD34cl2JSRgYxNhdge4g/VYhSdxRZlP/DDhHc6Xei2muddcgxDogsCL7o+a17Ux1qQnVsQHcd1oybbf/u2ugFe7LESnVqdaGyLBxuqu8C53XAP1GGb7/aNh9EjjORU/17sfSEIsRfdzYVEF5AgorPYwHE24T93YcAYcrD3WC/cLAeOG8Gg3Yodafy2PGsfuI/eQVmjsH1kEPZq8dfM/zwG8+9wvNcNluPAunvRWCYO7y2wcX340HoMgyNRSjjPij6uG93dHAbqtim3GUrR4naju/uUsoMb81F1XLgG1o3e47+D2SDbL60UjUK5RwbtsH7Y6ZVZnhV9ghwsNv8Rsp/4DGb8Tn6uxjKsF85lsXHo+9CKY4MjMZJlNmq6WXRU7kWL24n6At92Vh/ZSz8EsmuLri+I+56Aa4Tf13WiEaVp3vIYzNXClJmFu/cYrC3KetPuO5GjFB3fBz+oqJGVQ15GA8zVdpx2s8KShB01+UZFH6nrGsQIJ1x7TT6MsvP4tWu431eBRBeQcESXirI2F9ieWhSkGMAYc1HV4ZKmhXnWPnCcCx1Vm5FiTIHptx/BzXWheoPKedL24iO3C7aKLBgZI7JKPpTdRBbYOA5sTxN2b83ACylRrOvlWdHH2VC5rwOssx4Fsm2p+zrADtRhn2L0kYZKOwtXZw0KUgwwpBSgtocFa68U1imzUd3FwtVRhc0pRqSYSlDfw6qKTrrhZZ1T+Xca9n7khstWgSwjA2NWCT6U1ZHFxoFje9C0eysyXkiJfvqzrQ4DrA0WAz+SdbeUKo/pK7KAf0fTFxi81ijb17Aee23efRlDCY66OAy2WGBKScGarVXocHEyKQTqO5HjLzoObE89SrKMMK4pwgd9HNxHS/jtrzXCxfagtiAFBkMKCmp7wLpbUGpgwBjMqO0TlgAMBqRsfgd2txs2S6p6u4b7fY3yk+gCorFGJza4XHSplbBzPiOB7F+jrvUdbBM7t71SthZmgY1j0VbmPY94E/t/NxWVdg49hzcK+/mcJ1LyrOjjulCdzY/eWkpFaWajpptfq1JMs4QRoGKam12DbvFGUtlu2PtRZKLLs6KPs6My1Xus1Eo7uJ7D2Ch0cGd9QczaWiG37Bp0sx3YJzt3WKKLqi8YkPKCzw+YxQaObUMZw8BgsYEVhCxul9db4L4Tef34i055fXnWPqltGIsNnPND7BDLmPoK3ip/C6+kCuX3+VEtqHeCbSuTziNv13C/rwWJLiBhjOjyrOjjPsJeg/qx/Ndl+F9Fm8X/PL7TOhF+Oz9tiPYXmpHKzB9rW92Ad9QgE5ai3BYbOJ9OxzD8orzNImx3H0WJbx1FIjqt6aKw3WKLzdopwzDCNH0AddvEz4Rp7L5U1boK+ndUfYEBY8xFhTR1FeH7mdq6pvyzwH0n8jpSm7rK+6CiXKklaDg5AtbdC3ujFeWFWdJUkx/Nag8efNs13O9rQaILSPxEJ00D/Jgf0fEjM15ucumVtbFBRFeGNnaeROd7LBmxFJ3BYgOrdjN113ijwDdNdKmw2Nxge2pRtMbo189CEZ1234mcsETHMGAYI7IKy1BTZ0evm4Wr84B3xNlVjQ0htmu439eCRBeQMESnNl1J24qy8iJkM+GJblvdADifyJ/BYJDtNw+iE6Y4A/VWxTRW0cFv5tR1Wx0GOPkoiwFjMEhrMLETXSr2dbD+x0qthF1+LdFOXcPsC9LoTqxDsZ+VtXnXu1TqLXDfiZxwRJddVI7yIlmKjqyPpO7rAOu7LBCgXcP9vhYkuoDEOBgRouiY7Gp0sSx66oux3sAvxNf3DKKlJFm1k0WMz82auq+DH9nIbhRlBxeCER1V2CwEIw51uQMEIyw4eirSYAR/LLanHsXrDWCMWSip78FgSwmSw+jgQdlQjS7V+hTEL0ajYx2M0OwLG3Cgk4Xb/g62rlmDNVur8LGT9fYzQwmOulj01JeoByMC9p3I6yks0VV3gXV1oCrXCIYxIuu3H8Et5psKwRRXRxVyjQwMKZtR1eHEf71rks6jaNdwv68BiS4gUaSXsG70Hq9CvlHWEUIVHcPAmF8D+2k+RYAbGYTdukOQyfyJjl+rUibM+uVPGfNRYz+teo0Mw4ScXuJ7c6j9rTiXT4pGrESXXdPtNwISSa20exfVwxJdNH1BpQ4PtcIpC8z4ppfUtp5S1Jt234mc8Kau/BMvfHoJh5HBLtSVpknfNawvQ+MJF58uwrrRe2yv9LSMWruG+301SHQEscjwnYoW1DsXdTLvzYBERxCLiefewDFnD+pLsmBkDEgpqEUP680rI9Qh0RHEIiNth1WamrLu04onBQh1SHQEQegeEh1BELqHREcQhO4h0REEoXtIdARB6B4SHUEQuodERxCE7iHREQShe5Y89NBDIAiC0DMLdkT30EMPxb0MBEHoAxIdQRC6h0RHEITuIdERBKF7SHQEQegeEh1BELqHREcQhO4h0REEoXtIdARB6B4SHUEQuodERxCE7iHRxZvt7RidduLdeJeDIHQMiS4sEvDSb9rx+YXLmJqexvTUZVz4vB2W9VEcczGK7l0npqenNXG+G+2xF1l9EAueW1J06enpGBsbQ1JSUlj7rX1nAOPT4/is4Zd48fnVeP7FX6Lhs3FMfdWOooQIyxNn0UVaF8ryj6J9e4zKRKIj5oFbVnQzMzNIT08PY7/X8emFaVxwvIkE+edrP4B7egrOdxP4vxNewoFPWVyanMb09CQusZ+iUj7iSyhC8+eXMDk9janL59FvP4Vv5Dd2QhGOOM/j8hQ/Yjx/4gBeilSi81YXMrREp3UdCUWwj05jvK9CqMf1+MA9hamzzWhxaowMb3KdEPqDRBfqfjnNODv9Jzje9N22FoVv/x5vF64FwyTgTccFTI31oXrTajCrN8HqHMf0BQfeTGDAMAmo6BvH1FcO7Nu0Gqt/zo8IvSOY9XjvzGWMO63YtJrB6k37cGJ0GqPt2xdWXchRFV3g60h404ELwj4JFX0Yn/oKx8X9/UZ0N79OCP1xy4guPT1dwmQyYWZmBmazWfos6NQtlClawrtwTl1Gf2WC7LNK9F8WRnxq24vs3hHd9naMTrvxwVrvMdd+4Mb0V8exZSHVRbB6CXodgvDdDl5a9iLvKNlXdDepTgh9c8uIbmxsDDMzM5qMjY0FPkYoolO5KRkmB81nhRHI9naMTp9Fc47vPsKNrbXIP9qO7QupLoLVSyjXsfZdOC9PY3q8DxUJvvvKRHeT6oTQN7eM6JKSkqQRi9lsxszMDEwmk2J0E/AYmlPXBDz/Yg5efD5BQ3RbcPyrMER3uQ8V81y3UdeFHC3RBbuO9R/APTWN6fEBvLPWZ19f0d2EOiH0zS0jOjlRBSM+fV35uTwYEe3U9fVPcWH6Aj59XXb8hARl8GNB1IUMNdEFvQ5+3e2ysxXtZ6dkgQnGX3RxqBNCf5Dowthv/btOjE+NYcD6S/x8dYJKeokQjBCCDczqTajuvxggGLELrV/IgxH/geazU5j6yoHfvJQAZvUm7HN8hUsn9+FnC6wuJFSn9IGvgw9AnEXzfzBIKLJjdHoU9iJB/kV2fDN9Djbz83j++YS41AmhP25J0SUlJWFsbCyCmzsBLx34FKyYMDz5F5xztioThhNewoET5/AXWXrJgZfkI7wg6SWrf4XWzy/wqRTTk7gUbULyvNWFgNbapdZ1JLwJhyJNR5S/+GOxHY3Df8LU9DS+Or4lLnVC6I9bUnQEQdxaRCS6gwcPYnBwUFrMPnjwYEjs2LEj5HOQ6AiCiBURiY5lWczMzGDHjh3Yv39/wFQFOTabLeRzkOgIgogVEYnOZDKhrKxM+jspKSlkQj0HiY4giFhBa3QEQeieiEQX8ZsuwoBERxBErIhIdA6HQ8q9Kisrw+DgYEjs378/5HOQ6AiCiBURByMmJydhNpuxY8cOsCwbEg0NDSGfg0RHEESsiHiNLuIE0xAh0REEESsoGEEQhO6JSHTp6elhJf9GAomOIIhYEZHoxPeZmUwmShgmCGLBE/UjYCaTCQ0NDSEhTzIOBomOIIhYsaDX6AiCIGLBghZdvMtAEIQ+INERBKF7SHQEQegeEh1BELqHREcQhO5ZkKJ7+ZFHkP3AA8hfuTLuZSEIYvETV9G9uGoVXly1CvkrV0o477kHWLJE4sgPfhD3SiIIYnETN9H94oc/VAhNzqV/+Ae033EHTi5bhpcfeSTulUQQxOImbqL79YoVwJIluHj77Ri9/XZgyRL85bbbcHLZMry4ahWt0REEETPiLjosWYJP770XWLIE3J13SutyJDqCIGLFghDdH7//fYzecYf0t/2++3DgnnuQv3IlEp56Ku6VRBDE4iZuonvzX/5FIbaEp55C1YMP4m9/93eK9br//t73sI9GdwRBREHcRPfcE0/gs6VLJdGJn7/8yCN4f/lyHLjnHnwubMeSJfjrbbfBdv/9KH74YRrlEQQRFnFNLxGnr3LRiYhrdPkrVyqEJ3L2zjtx5Ac/QPHDD1O+HUEQAYmr6MTpq+3++/22+QYjnv/xj/HrFStwctky/Pf3vucnvpPLlkm5eDTiIwhCTlxFl/DUUzj4T/+EFx57zG9bsKjri6tW4dcrVuD95ctVxXf2zjvx/vLl+MUPfygJMN6VTRBEfFiQj4AxTHjpJS8/8gicwpre50uXqorPd9SXv3IlJSMTxC2CLkSnxourVuH95csltORnu/9+5K9ciX9/9NG4XzNBEPODbkXni++o7/OlS/1SWUTp0TofQeiLW0Z0aogvEVCT3vvLl8e9DgiCiA23tOjk5K9ciZPLluHzpUvhuPdemsoShI4g0REEoXtIdARB6B4SHUEQuodERxCE7iHREQShe0h0BEHoHhIdQRC6h0RHEITuIdERBKF7SHQEQegeEh1BELonKtElJSWhoaEBLMtiZmYGk5OTsNlsSE9Pj7pgJDqCIGJFxKIzmUyYnJzE5OQkHA4HGhoa4HA4MDMzg5mZGZjN5qgKRqIjCCJWRCS6pKQkDA4OYnJyEiaTSbHNZDJhbGwMk5OTURWMREcQRKyISHQ7duzAzMwM9u/fr7q9rKws4PZQINERBBErIhLd/v37MTMzo7kWl5SUhJmZGdhstogLRqIjCCJWRCS6hoYGzMzMICkpSfM7YmAi0oKR6AiCiBVRTV3LyspUt5vNZpq6EgSxYIg4GCEGHHynryaTCSzLYnJyMuCILxgkOoIgYkXE6SXiqE1ci9u/fz8aGhqklBOWZaPKpyPREQQRK6JKGDaZTIrcucnJSQwODipy7HzTT0KFREcQRKyI2SNg6enpiqmqyWSS5BeJ7Eh0BEHEinl91jUa2ZHoCIKIFfP+UL8ou7GxsbCCEyQ6giBixU15e4nJZNJMRdGCREcQRKyg1zQRBKF7SHQEsVix2MBxHDjOBku8y7LAIdEFxID126vQ2NWPM25W6FQs3Gf60dVYhcIs4wIoYyikodTaitZWK0rT4l2WxUNBvZNvc2c9ChZAeY9fYe0AAAvySURBVPyIt+jSSmFtbUWrtRRp8a6LIJDotDDkoPJjJ1iOEzqTGi50VpthWAD1FZA8K/qEMvdZ8+JfnsWAoRQtbrGd3WgpNcS/TL7EWXR51j7h/H2w5i2A+ggAiU6VVJS1ubwyq9uNrWvE0ZsRazaVwPqJKEEW9sq0ONdXHqx9AURmKEGjkwXHOnGsLDXubTt/WGAThG6zRHcsg8Wm+JFjbZaF94MWZ9EZShrhZDmwzmMoS10A9REAEp0a2TXoFjp4d022xvfSYLEJMnS3oNQQz/oKIrpbhliJLhX7OvilioHOTgxwHDi2A/sW2s0c76nrIoJEp4bUgbpQvSHA98y1OCVMbY6WxLO+SHQ8MRJdaiXs0pTMW7f2ygU2GibRhQyJTo1QRcdswzutrWhtbcU721S2G3NR0diFftcIfzzWjTMnjqOmeL3KNEi8Sfn1DmNuBRq7+uEaEaZO7jM4cawCuUa1cqoh7/xaAvDexDaL/zm5ERdOHK/BjjSN6+FG4Oq3w6p6PV5Ur+V4DYrXq6x7idfUZ0UeY0RuRSO6+l0YkQJBJ3CsIhdG2T7etSIV+qzIC7P9s2u6+X27a5Ct8rf6fhG0n0o91dlPeANfrBtnTthR53O9/u3vbettdQPCvlojUAMsNla9bgzrUVxzHCfOuKVp+4iLD7xtD9RWGqI1rC9GzXHZ9XAjcPV3obFqO9bf5BkQiU4N2eK9y2aJKKJkMFej06UlIRanjvpGqsQb5RSaatvgZNX3ZXusMIud5I1GOJ1OOJ1n4Ga9NxT/WSPe8Du2tug6bdrn5FxtKMuxoM3Jal5Pz2G1kaQB5upOuLQkxJ7C0VKf9U3x5jnVhNo2rWAQix6rNwi0sfqPwjWLQuQw4nLyn/2xGhvDarts1HT7LFtISxndqMnW2i+C9pPX0+Fuqewcx8LtcsuunYWzTaUfqolGKiuLjn0qI1CDBTZWZVkmrRRHT2m1LweO7YHVbAh+foG00qM4pdWfNOth/iDRqSJbf+M4jJw8horNKaEvRqdZYBMkN9JdhxIxDcWQgoIa8cZ3w2aRd0SvjDiOg6vTihKTcE5jFkrqe6Tgh38HDjZ1DS46jmNxqq3CG3QxZqHE6pUUy7Lg2FNoq9iMFAMDhjEgxVSC+h7h5lBZp0yz2IT9R9BdV4IsYTRjSClATae4vmmDRT7yUIxSXei0lsCUwt9gxizZ+VRHLDGYum6r49fkFFLzym+gbpvGvpG3X2pZm1BPLnRai72jHcN6FEv7qUR+VUXjLSvbsQ+pPuU0lLbA7Xd9BpS2uIUftQ5USX3dgJTNFWgTBeg6ihJDsPMzioi1q6MKm4X2Ywwp2FzRJgnQdbTkpgV4FqXonn32WaxZsyYkIi6DSnoJ6z6NrlYryguz1KcSQucoqB9Q7xi+2xVTIe+NwtorVUaRsg7c5vs4XfSiUz+nd1Ge49z4aK9KdFkSg886paEA9QMBOrRsu2JkId08GtFs2YilrSzU6wwdaerXVY0Nss83VHfxnw/UYZvqvpG23wZUd2mLiWG2oU6oJ/fREuU2DdFIZVX5MSg56la5vjK0CfJRXYfUamMt0ZW1CfeNHZUq02epjt1HURLp/Rkmi1J0DMPAZgu0PiV0dpsNzz77bBTlMGB9cQ2O97r9plCsuxfHqraqdOgSHHWr3MBypCCGfA0w+E1qsQnnt1f63BDRi04riCGtf7FtKFOtI41jlxxVGTkoMdee8r/pgi6we8/nf1NGKzpv2/kdWwpQaOXURdp+qXjlrXKUl5fjrVfUgx3SfjaLcptWXaXuQwerNnrUuj7v5wP1BSqjLCPWZGQgIyMDa1TXiH3OL7X9AOoLVOrKuAYZGRnIyFgTYMAQWxat6BgmsOyil5wSY1Yhyq2t6DqtlN5Id513sZ5hZOt7p1Br1jqeeFPIfyHDuFH8Fthvgug0F/XVjy3td6oWZq16FW8U+S97GKLzL3N0opOmdarTYu/o1t1SGiCYFEn7BSZs0cnKqhglSgLyHWkZUHJUXKoZwUl7HaoKNymlFqj9/KauJTgqrk+PnIS9rgqFm26e1NRY1KJjGHXZxVpyvhizClF17KS0eMx2VXunoAEjoSpClm4KfYlOKmtIyG6UuInOG41Un0IySN3Xwf/IRbg+GFB0hvXYXlUH+wmnLErpQ8iikyc8e6UmPtKmen2G9ShrPCkLiPAjQveZEzhu3e1dZwv1/OvL0HhyRFl+IevAultc5715LHrRMYxSdvMtOS8GmK3iQvEA6sT0EhKdsqyLRXTSdC8U1AJCUbRfmjyizcJ9xokTdj5tqbW1FZ8Ohi86eUCAn6YWoN6pVXYvhpTNKKnhhSulGXEcONaJtr0+aURB28qAlM0lqKmz44QsIs5xHFhnG/aqpazME7oQHcPwsouN5Ly5cR+UbQhyc4jrNhy6qoXvFtTDyXEInoPni75EJz0Q77OoH5Q4iS610h7WD5T/dUXafrJpZk+9am5h+FNXHinwYK9EqhhQYG2whDyaMmLN1gock0ZmPuut4SYsG9dga8UxnBQFGjAvMbboRnQMw8RoJGdG7Sm+IdTXYmQY9uIjX9FJ8mNhs4Tzi6Uv0UniCOvGYuIkOm9ENFibq6dnRNF+siCH1tM1kYrO+6NrR319n+b1pb7yFsrLy1FeXqQuHlnundTPNc/vDa6UF6kH47zT6nAHA5GjK9HFCm92uUqSpIy0SrvQYE7UF3gbWkrJ6KvVSIo0oKC6Dntz5MfWl+jkU8G+Wo03vBgKUF23Fzmh5GapnC9mopNSVkJ5lM8boVSeP8L223gYPYF+GA1m1PZFKDpZagonXJ9qxFhKB9GKkIvT3lBEx6CsjQ08Yot41hM5JDo1DGZYpcRUJz6p242tL3gTho1rtmJ33SdS9rsiGMEwYPIOo0fcdqpNkWxsSNmMCjGQMXIce5LF/aIRnSwXq+sQ/5iRwQijIdix51F0DIO8w94k2VNtFbIFbT4RVZwSjRzfg2Rxv6hEJ0uTaHmLT7w1GoNG+8LN65Km5YqcukjbTyYjVyesJSakGBgYUl7A1t11+ET+NIpvWlEIU0fF43Fa1yfLaVTtr22n1EWocX5DQb2Qd6fe7lICMk1d4/1kBAMmbQfqun2iRir4pZcIpO2oQ/dIgH3ZHtTvkCfERhe1y67u8sn1k78jLD6iY5g07Kjr9onkKWF76pX1F5Xo5GkSXJDjiHhHK876gtD6hpRAKx/JR95+aZYAj9+xPeiwC2L1TdUJZY1M9iYev4RjGYEfWeTAcSPoPmwOMRgR5NE/jgM30o3DAWZLsYZEFxD+DcN19hNwurzSY91n0N/VCutujYetxc6TstnnIfhAD0lHm4eVhtK6LgxKD5F/iuqNwY4936Lj6zBls8/LAgI93B2V6BgwBjN+d7xXevZ3xCV/5leljaQ1N7m0giF7WkFa84qu/QK9+MAbKPGZ6oUUDBDXnEO4PmMudluVD/Wz7jM4Ya9DRa7K27SDnN+YuxtWxUP9fLqKvS7wyw3mAxIdQegZcfSp+ejarQGJjiB0i/dhfe2XEdwakOgIQlcYYDAwMK7Z5H37DNuFas3XS90akOgIQlcoXxfl++6+WxUSHUHoijfQKAS/RlwncGxvzi0vOYYh0REEcQtAoiMIQveQ6AiC0D0kOoIgdA+JjiAI3UOiIwhC95DoCILQPSQ6giB0T9SiS0pKQlmZ7/8zyrN//34kJSVFdFwSHUEQsSIq0SUlJcHhcGBychImk0mxLT09HTMzM2BZNiLZkegIgogVEYtOLjmtEZ3ZbI5YdiQ6giBiRUSiC0VyIpHKjkRHEESsCFt04UhOJBLZkegIgogVEYmOZVnMzMzAbDaHtI/ZbMbk5CRYlkV6enpI+5DoCIKIFRFPXUOVXSSSYxgSHUEQsSOqYEQw2UUqOYYh0REEETuiTi8RZaeWXhKp5BiGREcQROyIScKwVmLwwYMHI5Icw5DoCIKIHfQIGEEQuodERxCE7iHREQShe0h0BEHoHhIdQRC6h0RHEITuIdERBKF7SHQEQegeEh1BELqHREcQhO4h0REEoXtIdARB6B4SHUEQuuf/A3Hhuf+iCKcqAAAAAElFTkSuQmCC)"
      ]
    },
    {
      "cell_type": "markdown",
      "metadata": {
        "id": "M9jMtnbz7HJn"
      },
      "source": [
        "<a name=\"0\"></a>\r\n",
        "## Imports du projet et des librairies "
      ]
    },
    {
      "cell_type": "markdown",
      "metadata": {
        "id": "lwVHMaHYxDTT"
      },
      "source": [
        "Veuillez importer les fichiers du projet via le lien ci-dessous : \r\n",
        "\r\n",
        "https://drive.google.com/drive/folders/18Qkedfia8GFN4-GgpXKFN5-w6swJHgkb?usp=sharing"
      ]
    },
    {
      "cell_type": "code",
      "metadata": {
        "id": "v5_eC1ru1K4s",
        "colab": {
          "base_uri": "https://localhost:8080/"
        },
        "outputId": "8f92e2fa-b324-4fa6-8658-6d29a5f3e767"
      },
      "source": [
        "from google.colab import drive\r\n",
        "drive.mount('/content/drive', force_remount=True)\r\n",
        "\r\n",
        "from time import time\r\n",
        "import numpy as np\r\n",
        "import pandas as pd\r\n",
        "import tensorflow as tf\r\n",
        "\r\n",
        "# Import Regex to clean up tweets\r\n",
        "import re\r\n",
        "\r\n",
        "import nltk, string\r\n",
        "from nltk.corpus import stopwords\r\n",
        "from nltk.tokenize import TweetTokenizer\r\n",
        "\r\n",
        "# Get Reviews\r\n",
        "import requests\r\n",
        "import json\r\n",
        "\r\n",
        "# Get Tweets\r\n",
        "import httplib2\r\n",
        "import requests\r\n",
        "import urllib3\r\n",
        "from drive.MyDrive.Twitter_Dataset.random_tweets import *\r\n",
        "\r\n",
        "# TF IDF Imports\r\n",
        "\r\n",
        "\r\n",
        "from sklearn.feature_extraction.text import TfidfVectorizer \r\n",
        "from sklearn.model_selection import train_test_split  \r\n",
        "from scipy.sparse import csc_matrix\r\n",
        "from sklearn.ensemble import RandomForestClassifier\r\n",
        "from sklearn.metrics import classification_report, confusion_matrix, accuracy_score\r\n",
        "from joblib import dump, load\r\n",
        "\r\n",
        "# RNN & LSTM Imports\r\n",
        "\r\n",
        "from tensorflow.keras.preprocessing.sequence import pad_sequences\r\n",
        "from tensorflow.keras.layers import Embedding, LSTM, Dense, Dropout, Bidirectional\r\n",
        "from tensorflow.keras.preprocessing.text import Tokenizer\r\n",
        "from tensorflow.keras.models import Sequential\r\n",
        "from tensorflow.keras.optimizers import Adam\r\n",
        "from tensorflow.keras import regularizers\r\n",
        "\r\n",
        "from tensorflow.keras.preprocessing.text import Tokenizer\r\n",
        "from tensorflow.keras.preprocessing.sequence import pad_sequences\r\n",
        "import random\r\n",
        "\r\n",
        "\r\n"
      ],
      "execution_count": 274,
      "outputs": [
        {
          "output_type": "stream",
          "text": [
            "Mounted at /content/drive\n"
          ],
          "name": "stdout"
        }
      ]
    },
    {
      "cell_type": "code",
      "metadata": {
        "id": "BNYefqe3w1Hm"
      },
      "source": [
        "DF = pd.read_csv('/content/drive/MyDrive/Twitter_Dataset/tweets.csv',encoding='latin',usecols=[0, 5], # to take only 2 useful columns\r\n",
        "                 names=[\"label\",\"tweet\"])"
      ],
      "execution_count": 275,
      "outputs": []
    },
    {
      "cell_type": "code",
      "metadata": {
        "id": "hqB_3Dhxz_Yv"
      },
      "source": [
        "DF['label'].replace([4, 0],[1, 0], inplace=True) # Replace 0 and 4 by 0 and 1 to clarify"
      ],
      "execution_count": 276,
      "outputs": []
    },
    {
      "cell_type": "code",
      "metadata": {
        "colab": {
          "base_uri": "https://localhost:8080/"
        },
        "id": "b1JnADpayYoX",
        "outputId": "db70f8bc-f851-4edf-92b3-a20255195dc4"
      },
      "source": [
        "  print(DF.head(25))\r\n",
        "  len(DF)"
      ],
      "execution_count": 277,
      "outputs": [
        {
          "output_type": "stream",
          "text": [
            "    label                                              tweet\n",
            "0       0  @switchfoot http://twitpic.com/2y1zl - Awww, t...\n",
            "1       0  is upset that he can't update his Facebook by ...\n",
            "2       0  @Kenichan I dived many times for the ball. Man...\n",
            "3       0    my whole body feels itchy and like its on fire \n",
            "4       0  @nationwideclass no, it's not behaving at all....\n",
            "5       0                      @Kwesidei not the whole crew \n",
            "6       0                                        Need a hug \n",
            "7       0  @LOLTrish hey  long time no see! Yes.. Rains a...\n",
            "8       0               @Tatiana_K nope they didn't have it \n",
            "9       0                          @twittera que me muera ? \n",
            "10      0        spring break in plain city... it's snowing \n",
            "11      0                         I just re-pierced my ears \n",
            "12      0  @caregiving I couldn't bear to watch it.  And ...\n",
            "13      0  @octolinz16 It it counts, idk why I did either...\n",
            "14      0  @smarrison i would've been the first, but i di...\n",
            "15      0  @iamjazzyfizzle I wish I got to watch it with ...\n",
            "16      0  Hollis' death scene will hurt me severely to w...\n",
            "17      0                               about to file taxes \n",
            "18      0  @LettyA ahh ive always wanted to see rent  lov...\n",
            "19      0  @FakerPattyPattz Oh dear. Were you drinking ou...\n",
            "20      0  @alydesigns i was out most of the day so didn'...\n",
            "21      0  one of my friend called me, and asked to meet ...\n",
            "22      0   @angry_barista I baked you a cake but I ated it \n",
            "23      0             this week is not going as i had hoped \n",
            "24      0                         blagh class at 8 tomorrow \n"
          ],
          "name": "stdout"
        },
        {
          "output_type": "execute_result",
          "data": {
            "text/plain": [
              "1600000"
            ]
          },
          "metadata": {
            "tags": []
          },
          "execution_count": 277
        }
      ]
    },
    {
      "cell_type": "markdown",
      "metadata": {
        "id": "AY-r3wiq3Pqe"
      },
      "source": [
        "On peut voir que les tweets contiennent des mentions, des urls, etc. qui ne sont pas utiles au modèle de langage. Il faut donc nettoyer leur contenu."
      ]
    },
    {
      "cell_type": "markdown",
      "metadata": {
        "id": "Qx45o7nz6X2C"
      },
      "source": [
        "<a name=\"1\"></a>\r\n",
        "## Pré-Traitement\r\n",
        "\r\n"
      ]
    },
    {
      "cell_type": "markdown",
      "metadata": {
        "id": "feom1QFT4Kq6"
      },
      "source": [
        "<a name=\"1.1\"></a>\r\n",
        "### Nettoyage et Tokenization\r\n",
        "J'utilise la fonction clean trouvée sur Kaggle pour nettoyer les tweets.\r\n",
        "Les contractions sont séparées, les charactères spéciaux sont supprimés, ainsi que les URLs, les mentions, les mots trops courts, et les stopwords. \r\n",
        "\r\n",
        "Les tweets sont aussi transformés en Tokens grâce à la librairie ```nltk```.\r\n"
      ]
    },
    {
      "cell_type": "code",
      "metadata": {
        "colab": {
          "base_uri": "https://localhost:8080/"
        },
        "id": "fnzzklWW3Iq6",
        "outputId": "0d81cedd-8d49-4049-b731-6ad795a1a5fb"
      },
      "source": [
        "tokenizer = TweetTokenizer(strip_handles=True)\r\n",
        "nltk.download('stopwords')\r\n",
        "stop_words = nltk.corpus.stopwords.words('english')\r\n",
        "corpus = []"
      ],
      "execution_count": 278,
      "outputs": [
        {
          "output_type": "stream",
          "text": [
            "[nltk_data] Downloading package stopwords to /root/nltk_data...\n",
            "[nltk_data]   Package stopwords is already up-to-date!\n"
          ],
          "name": "stdout"
        }
      ]
    },
    {
      "cell_type": "code",
      "metadata": {
        "id": "-A65-xor3uxu"
      },
      "source": [
        "def clean(tweet): \r\n",
        "            \r\n",
        "    # Contractions\r\n",
        "    tweet = re.sub(r\"he's\", \"he is\", tweet)\r\n",
        "    tweet = re.sub(r\"there's\", \"there is\", tweet)\r\n",
        "    tweet = re.sub(r\"We're\", \"We are\", tweet)\r\n",
        "    tweet = re.sub(r\"That's\", \"That is\", tweet)\r\n",
        "    tweet = re.sub(r\"won't\", \"will not\", tweet)\r\n",
        "    tweet = re.sub(r\"they're\", \"they are\", tweet)\r\n",
        "    tweet = re.sub(r\"Can't\", \"Cannot\", tweet)\r\n",
        "    tweet = re.sub(r\"wasn't\", \"was not\", tweet)\r\n",
        "    tweet = re.sub(r\"don\\x89Ûªt\", \"do not\", tweet)\r\n",
        "    tweet = re.sub(r\"aren't\", \"are not\", tweet)\r\n",
        "    tweet = re.sub(r\"isn't\", \"is not\", tweet)\r\n",
        "    tweet = re.sub(r\"What's\", \"What is\", tweet)\r\n",
        "    tweet = re.sub(r\"haven't\", \"have not\", tweet)\r\n",
        "    tweet = re.sub(r\"hasn't\", \"has not\", tweet)\r\n",
        "    tweet = re.sub(r\"There's\", \"There is\", tweet)\r\n",
        "    tweet = re.sub(r\"He's\", \"He is\", tweet)\r\n",
        "    tweet = re.sub(r\"It's\", \"It is\", tweet)\r\n",
        "    tweet = re.sub(r\"You're\", \"You are\", tweet)\r\n",
        "    tweet = re.sub(r\"I'M\", \"I am\", tweet)\r\n",
        "    tweet = re.sub(r\"shouldn't\", \"should not\", tweet)\r\n",
        "    tweet = re.sub(r\"wouldn't\", \"would not\", tweet)\r\n",
        "    tweet = re.sub(r\"i'm\", \"I am\", tweet)\r\n",
        "    tweet = re.sub(r\"I\\x89Ûªm\", \"I am\", tweet)\r\n",
        "    tweet = re.sub(r\"I'm\", \"I am\", tweet)\r\n",
        "    tweet = re.sub(r\"Isn't\", \"is not\", tweet)\r\n",
        "    tweet = re.sub(r\"Here's\", \"Here is\", tweet)\r\n",
        "    tweet = re.sub(r\"you've\", \"you have\", tweet)\r\n",
        "    tweet = re.sub(r\"you\\x89Ûªve\", \"you have\", tweet)\r\n",
        "    tweet = re.sub(r\"we're\", \"we are\", tweet)\r\n",
        "    tweet = re.sub(r\"what's\", \"what is\", tweet)\r\n",
        "    tweet = re.sub(r\"couldn't\", \"could not\", tweet)\r\n",
        "    tweet = re.sub(r\"we've\", \"we have\", tweet)\r\n",
        "    tweet = re.sub(r\"it\\x89Ûªs\", \"it is\", tweet)\r\n",
        "    tweet = re.sub(r\"doesn\\x89Ûªt\", \"does not\", tweet)\r\n",
        "    tweet = re.sub(r\"It\\x89Ûªs\", \"It is\", tweet)\r\n",
        "    tweet = re.sub(r\"Here\\x89Ûªs\", \"Here is\", tweet)\r\n",
        "    tweet = re.sub(r\"who's\", \"who is\", tweet)\r\n",
        "    tweet = re.sub(r\"I\\x89Ûªve\", \"I have\", tweet)\r\n",
        "    tweet = re.sub(r\"y'all\", \"you all\", tweet)\r\n",
        "    tweet = re.sub(r\"can\\x89Ûªt\", \"cannot\", tweet)\r\n",
        "    tweet = re.sub(r\"would've\", \"would have\", tweet)\r\n",
        "    tweet = re.sub(r\"it'll\", \"it will\", tweet)\r\n",
        "    tweet = re.sub(r\"we'll\", \"we will\", tweet)\r\n",
        "    tweet = re.sub(r\"wouldn\\x89Ûªt\", \"would not\", tweet)\r\n",
        "    tweet = re.sub(r\"We've\", \"We have\", tweet)\r\n",
        "    tweet = re.sub(r\"he'll\", \"he will\", tweet)\r\n",
        "    tweet = re.sub(r\"Y'all\", \"You all\", tweet)\r\n",
        "    tweet = re.sub(r\"Weren't\", \"Were not\", tweet)\r\n",
        "    tweet = re.sub(r\"Didn't\", \"Did not\", tweet)\r\n",
        "    tweet = re.sub(r\"they'll\", \"they will\", tweet)\r\n",
        "    tweet = re.sub(r\"they'd\", \"they would\", tweet)\r\n",
        "    tweet = re.sub(r\"DON'T\", \"DO NOT\", tweet)\r\n",
        "    tweet = re.sub(r\"That\\x89Ûªs\", \"That is\", tweet)\r\n",
        "    tweet = re.sub(r\"they've\", \"they have\", tweet)\r\n",
        "    tweet = re.sub(r\"i'd\", \"I would\", tweet)\r\n",
        "    tweet = re.sub(r\"should've\", \"should have\", tweet)\r\n",
        "    tweet = re.sub(r\"You\\x89Ûªre\", \"You are\", tweet)\r\n",
        "    tweet = re.sub(r\"where's\", \"where is\", tweet)\r\n",
        "    tweet = re.sub(r\"Don\\x89Ûªt\", \"Do not\", tweet)\r\n",
        "    tweet = re.sub(r\"we'd\", \"we would\", tweet)\r\n",
        "    tweet = re.sub(r\"i'll\", \"I will\", tweet)\r\n",
        "    tweet = re.sub(r\"weren't\", \"were not\", tweet)\r\n",
        "    tweet = re.sub(r\"They're\", \"They are\", tweet)\r\n",
        "    tweet = re.sub(r\"Can\\x89Ûªt\", \"Cannot\", tweet)\r\n",
        "    tweet = re.sub(r\"you\\x89Ûªll\", \"you will\", tweet)\r\n",
        "    tweet = re.sub(r\"I\\x89Ûªd\", \"I would\", tweet)\r\n",
        "    tweet = re.sub(r\"let's\", \"let us\", tweet)\r\n",
        "    tweet = re.sub(r\"it's\", \"it is\", tweet)\r\n",
        "    tweet = re.sub(r\"can't\", \"cannot\", tweet)\r\n",
        "    tweet = re.sub(r\"don't\", \"do not\", tweet)\r\n",
        "    tweet = re.sub(r\"you're\", \"you are\", tweet)\r\n",
        "    tweet = re.sub(r\"i've\", \"I have\", tweet)\r\n",
        "    tweet = re.sub(r\"that's\", \"that is\", tweet)\r\n",
        "    tweet = re.sub(r\"i'll\", \"I will\", tweet)\r\n",
        "    tweet = re.sub(r\"doesn't\", \"does not\", tweet)\r\n",
        "    tweet = re.sub(r\"i'd\", \"I would\", tweet)\r\n",
        "    tweet = re.sub(r\"didn't\", \"did not\", tweet)\r\n",
        "    tweet = re.sub(r\"ain't\", \"am not\", tweet)\r\n",
        "    tweet = re.sub(r\"you'll\", \"you will\", tweet)\r\n",
        "    tweet = re.sub(r\"I've\", \"I have\", tweet)\r\n",
        "    tweet = re.sub(r\"Don't\", \"do not\", tweet)\r\n",
        "    tweet = re.sub(r\"I'll\", \"I will\", tweet)\r\n",
        "    tweet = re.sub(r\"I'd\", \"I would\", tweet)\r\n",
        "    tweet = re.sub(r\"Let's\", \"Let us\", tweet)\r\n",
        "    tweet = re.sub(r\"you'd\", \"You would\", tweet)\r\n",
        "    tweet = re.sub(r\"It's\", \"It is\", tweet)\r\n",
        "    tweet = re.sub(r\"Ain't\", \"am not\", tweet)\r\n",
        "    tweet = re.sub(r\"Haven't\", \"Have not\", tweet)\r\n",
        "    tweet = re.sub(r\"Could've\", \"Could have\", tweet)\r\n",
        "    tweet = re.sub(r\"youve\", \"you have\", tweet)  \r\n",
        "    tweet = re.sub(r\"donå«t\", \"do not\", tweet)  \r\n",
        "    \r\n",
        "    tweet = re.sub(r\"some1\", \"someone\", tweet)\r\n",
        "    tweet = re.sub(r\"yrs\", \"years\", tweet)\r\n",
        "    tweet = re.sub(r\"hrs\", \"hours\", tweet)\r\n",
        "    tweet = re.sub(r\"2morow|2moro\", \"tomorrow\", tweet)\r\n",
        "    tweet = re.sub(r\"2day\", \"today\", tweet)\r\n",
        "    tweet = re.sub(r\"4got|4gotten\", \"forget\", tweet)\r\n",
        "    tweet = re.sub(r\"b-day|bday\", \"b-day\", tweet)\r\n",
        "    tweet = re.sub(r\"mother's\", \"mother\", tweet)\r\n",
        "    tweet = re.sub(r\"mom's\", \"mom\", tweet)\r\n",
        "    tweet = re.sub(r\"dad's\", \"dad\", tweet)\r\n",
        "    tweet = re.sub(r\"hahah|hahaha|hahahaha\", \"haha\", tweet)\r\n",
        "    tweet = re.sub(r\"lmao|lolz|rofl\", \"lol\", tweet)\r\n",
        "    tweet = re.sub(r\"thanx|thnx\", \"thanks\", tweet)\r\n",
        "    tweet = re.sub(r\"goood\", \"good\", tweet)\r\n",
        "    tweet = re.sub(r\"some1\", \"someone\", tweet)\r\n",
        "    tweet = re.sub(r\"some1\", \"someone\", tweet)\r\n",
        "    # Character entity references\r\n",
        "    tweet = re.sub(r\"&gt;\", \">\", tweet)\r\n",
        "    tweet = re.sub(r\"&lt;\", \"<\", tweet)\r\n",
        "    tweet = re.sub(r\"&amp;\", \"&\", tweet)\r\n",
        "    # Typos, slang and informal abbreviations\r\n",
        "    tweet = re.sub(r\"w/e\", \"whatever\", tweet)\r\n",
        "    tweet = re.sub(r\"w/\", \"with\", tweet)\r\n",
        "    tweet = re.sub(r\"<3\", \"love\", tweet)\r\n",
        "    # Urls\r\n",
        "    tweet = re.sub(r\"http\\S+\", \"\", tweet)\r\n",
        "    # Numbers\r\n",
        "    tweet = re.sub(r'[0-9]', '', tweet)\r\n",
        "    # Eliminating the mentions\r\n",
        "    tweet = re.sub(\"(@[A-Za-z0-9_]+)\",\"\", tweet)\r\n",
        "    # Remove punctuation and special chars (keep '!')\r\n",
        "    for p in string.punctuation.replace('!', ''):\r\n",
        "        tweet = tweet.replace(p, '')\r\n",
        "        \r\n",
        "    # ... and ..\r\n",
        "    tweet = tweet.replace('...', ' ... ')\r\n",
        "    if '...' not in tweet:\r\n",
        "        tweet = tweet.replace('..', ' ... ')\r\n",
        "        \r\n",
        "    # Tokenize\r\n",
        "    tweet_words = tokenizer.tokenize(tweet)\r\n",
        "    \r\n",
        "    # Eliminating the word if its length is less than 3\r\n",
        "    tweet = [w for w in tweet_words if len(w)>2]\r\n",
        "    \r\n",
        "    # remove stopwords\r\n",
        "    tweet = [w.lower() for w in tweet if not w in stop_words]  \r\n",
        "    \r\n",
        "    corpus.append(tweet)\r\n",
        "    \r\n",
        "    # join back\r\n",
        "    tweet = ' '.join(tweet)\r\n",
        "        \r\n",
        "        \r\n",
        "    return tweet"
      ],
      "execution_count": 279,
      "outputs": []
    },
    {
      "cell_type": "markdown",
      "metadata": {
        "id": "Ra5JF2wM47He"
      },
      "source": [
        "Les abbréviations seront remplacées par leur homologue complet grâce à ce dictionnaire d'abbréviations et à la fonction ```convert_abbrev_in_text``` associée"
      ]
    },
    {
      "cell_type": "code",
      "metadata": {
        "id": "wXOuCl754r9x"
      },
      "source": [
        "variable_name = \"\"\n",
        "abbreviations = {\n",
        "    \"$\" : \" dollar \",\n",
        "    \"€\" : \" euro \",\n",
        "    \"4ao\" : \"for adults only\",\n",
        "    \"a.m\" : \"before midday\",\n",
        "    \"a3\" : \"anytime anywhere anyplace\",\n",
        "    \"aamof\" : \"as a matter of fact\",\n",
        "    \"acct\" : \"account\",\n",
        "    \"adih\" : \"another day in hell\",\n",
        "    \"afaic\" : \"as far as i am concerned\",\n",
        "    \"afaict\" : \"as far as i can tell\",\n",
        "    \"afaik\" : \"as far as i know\",\n",
        "    \"afair\" : \"as far as i remember\",\n",
        "    \"afk\" : \"away from keyboard\",\n",
        "    \"app\" : \"application\",\n",
        "    \"approx\" : \"approximately\",\n",
        "    \"apps\" : \"applications\",\n",
        "    \"asap\" : \"as soon as possible\",\n",
        "    \"asl\" : \"age, sex, location\",\n",
        "    \"atk\" : \"at the keyboard\",\n",
        "    \"ave.\" : \"avenue\",\n",
        "    \"aymm\" : \"are you my mother\",\n",
        "    \"ayor\" : \"at your own risk\", \n",
        "    \"b&b\" : \"bed and breakfast\",\n",
        "    \"b+b\" : \"bed and breakfast\",\n",
        "    \"b.c\" : \"before christ\",\n",
        "    \"b2b\" : \"business to business\",\n",
        "    \"b2c\" : \"business to customer\",\n",
        "    \"b4\" : \"before\",\n",
        "    \"b4n\" : \"bye for now\",\n",
        "    \"b@u\" : \"back at you\",\n",
        "    \"bae\" : \"before anyone else\",\n",
        "    \"bak\" : \"back at keyboard\",\n",
        "    \"bbbg\" : \"bye bye be good\",\n",
        "    \"bbc\" : \"british broadcasting corporation\",\n",
        "    \"bbias\" : \"be back in a second\",\n",
        "    \"bbl\" : \"be back later\",\n",
        "    \"bbs\" : \"be back soon\",\n",
        "    \"be4\" : \"before\",\n",
        "    \"bfn\" : \"bye for now\",\n",
        "    \"blvd\" : \"boulevard\",\n",
        "    \"bout\" : \"about\",\n",
        "    \"brb\" : \"be right back\",\n",
        "    \"bros\" : \"brothers\",\n",
        "    \"brt\" : \"be right there\",\n",
        "    \"bsaaw\" : \"big smile and a wink\",\n",
        "    \"btw\" : \"by the way\",\n",
        "    \"bwl\" : \"bursting with laughter\",\n",
        "    \"c/o\" : \"care of\",\n",
        "    \"cet\" : \"central european time\",\n",
        "    \"cf\" : \"compare\",\n",
        "    \"cia\" : \"central intelligence agency\",\n",
        "    \"csl\" : \"can not stop laughing\",\n",
        "    \"cu\" : \"see you\",\n",
        "    \"cul8r\" : \"see you later\",\n",
        "    \"cv\" : \"curriculum vitae\",\n",
        "    \"cwot\" : \"complete waste of time\",\n",
        "    \"cya\" : \"see you\",\n",
        "    \"cyt\" : \"see you tomorrow\",\n",
        "    \"dae\" : \"does anyone else\",\n",
        "    \"dbmib\" : \"do not bother me i am busy\",\n",
        "    \"diy\" : \"do it yourself\",\n",
        "    \"dm\" : \"direct message\",\n",
        "    \"dwh\" : \"during work hours\",\n",
        "    \"e123\" : \"easy as one two three\",\n",
        "    \"eet\" : \"eastern european time\",\n",
        "    \"eg\" : \"example\",\n",
        "    \"embm\" : \"early morning business meeting\",\n",
        "    \"encl\" : \"enclosed\",\n",
        "    \"encl.\" : \"enclosed\",\n",
        "    \"etc\" : \"and so on\",\n",
        "    \"faq\" : \"frequently asked questions\",\n",
        "    \"fawc\" : \"for anyone who cares\",\n",
        "    \"fb\" : \"facebook\",\n",
        "    \"fc\" : \"fingers crossed\",\n",
        "    \"fig\" : \"figure\",\n",
        "    \"fimh\" : \"forever in my heart\", \n",
        "    \"ft.\" : \"feet\",\n",
        "    \"ft\" : \"featuring\",\n",
        "    \"ftl\" : \"for the loss\",\n",
        "    \"ftw\" : \"for the win\",\n",
        "    \"fwiw\" : \"for what it is worth\",\n",
        "    \"fyi\" : \"for your information\",\n",
        "    \"g9\" : \"genius\",\n",
        "    \"gahoy\" : \"get a hold of yourself\",\n",
        "    \"gal\" : \"get a life\",\n",
        "    \"gcse\" : \"general certificate of secondary education\",\n",
        "    \"gfn\" : \"gone for now\",\n",
        "    \"gg\" : \"good game\",\n",
        "    \"gl\" : \"good luck\",\n",
        "    \"glhf\" : \"good luck have fun\",\n",
        "    \"gmt\" : \"greenwich mean time\",\n",
        "    \"gmta\" : \"great minds think alike\",\n",
        "    \"gn\" : \"good night\",\n",
        "    \"g.o.a.t\" : \"greatest of all time\",\n",
        "    \"goat\" : \"greatest of all time\",\n",
        "    \"goi\" : \"get over it\",\n",
        "    \"gps\" : \"global positioning system\",\n",
        "    \"gr8\" : \"great\",\n",
        "    \"gratz\" : \"congratulations\",\n",
        "    \"gyal\" : \"girl\",\n",
        "    \"h&c\" : \"hot and cold\",\n",
        "    \"hp\" : \"horsepower\",\n",
        "    \"hr\" : \"hour\",\n",
        "    \"hrh\" : \"his royal highness\",\n",
        "    \"ht\" : \"height\",\n",
        "    \"ibrb\" : \"i will be right back\",\n",
        "    \"ic\" : \"i see\",\n",
        "    \"icq\" : \"i seek you\",\n",
        "    \"icymi\" : \"in case you missed it\",\n",
        "    \"idc\" : \"i do not care\",\n",
        "    \"idgadf\" : \"i do not give a damn fuck\",\n",
        "    \"idgaf\" : \"i do not give a fuck\",\n",
        "    \"idk\" : \"i do not know\",\n",
        "    \"ie\" : \"that is\",\n",
        "    \"i.e\" : \"that is\",\n",
        "    \"ifyp\" : \"i feel your pain\",\n",
        "    \"IG\" : \"instagram\",\n",
        "    \"iirc\" : \"if i remember correctly\",\n",
        "    \"ilu\" : \"i love you\",\n",
        "    \"ily\" : \"i love you\",\n",
        "    \"imho\" : \"in my humble opinion\",\n",
        "    \"imo\" : \"in my opinion\",\n",
        "    \"imu\" : \"i miss you\",\n",
        "    \"iow\" : \"in other words\",\n",
        "    \"irl\" : \"in real life\",\n",
        "    \"j4f\" : \"just for fun\",\n",
        "    \"jic\" : \"just in case\",\n",
        "    \"jk\" : \"just kidding\",\n",
        "    \"jsyk\" : \"just so you know\",\n",
        "    \"l8r\" : \"later\",\n",
        "    \"lb\" : \"pound\",\n",
        "    \"lbs\" : \"pounds\",\n",
        "    \"ldr\" : \"long distance relationship\",\n",
        "    \"lmao\" : \"laugh my ass off\",\n",
        "    \"lmfao\" : \"laugh my fucking ass off\",\n",
        "    \"lol\" : \"laughing out loud\",\n",
        "    \"ltd\" : \"limited\",\n",
        "    \"ltns\" : \"long time no see\",\n",
        "    \"m8\" : \"mate\",\n",
        "    \"mf\" : \"motherfucker\",\n",
        "    \"mfs\" : \"motherfuckers\",\n",
        "    \"mfw\" : \"my face when\",\n",
        "    \"mofo\" : \"motherfucker\",\n",
        "    \"mph\" : \"miles per hour\",\n",
        "    \"mr\" : \"mister\",\n",
        "    \"mrw\" : \"my reaction when\",\n",
        "    \"ms\" : \"miss\",\n",
        "    \"mte\" : \"my thoughts exactly\",\n",
        "    \"nagi\" : \"not a good idea\",\n",
        "    \"nbc\" : \"national broadcasting company\",\n",
        "    \"nbd\" : \"not big deal\",\n",
        "    \"nfs\" : \"not for sale\",\n",
        "    \"ngl\" : \"not going to lie\",\n",
        "    \"nhs\" : \"national health service\",\n",
        "    \"nrn\" : \"no reply necessary\",\n",
        "    \"nsfl\" : \"not safe for life\",\n",
        "    \"nsfw\" : \"not safe for work\",\n",
        "    \"nth\" : \"nice to have\",\n",
        "    \"nvr\" : \"never\",\n",
        "    \"nyc\" : \"new york city\",\n",
        "    \"oc\" : \"original content\",\n",
        "    \"og\" : \"original\",\n",
        "    \"ohp\" : \"overhead projector\",\n",
        "    \"oic\" : \"oh i see\",\n",
        "    \"omdb\" : \"over my dead body\",\n",
        "    \"omg\" : \"oh my god\",\n",
        "    \"omw\" : \"on my way\",\n",
        "    \"p.a\" : \"per annum\",\n",
        "    \"p.m\" : \"after midday\",\n",
        "    \"pm\" : \"prime minister\",\n",
        "    \"poc\" : \"people of color\",\n",
        "    \"pov\" : \"point of view\",\n",
        "    \"pp\" : \"pages\",\n",
        "    \"ppl\" : \"people\",\n",
        "    \"prw\" : \"parents are watching\",\n",
        "    \"ps\" : \"postscript\",\n",
        "    \"pt\" : \"point\",\n",
        "    \"ptb\" : \"please text back\",\n",
        "    \"pto\" : \"please turn over\",\n",
        "    \"qpsa\" : \"what happens\", \n",
        "    \"ratchet\" : \"rude\",\n",
        "    \"rbtl\" : \"read between the lines\",\n",
        "    \"rlrt\" : \"real life retweet\", \n",
        "    \"rofl\" : \"rolling on the floor laughing\",\n",
        "    \"roflol\" : \"rolling on the floor laughing out loud\",\n",
        "    \"rotflmao\" : \"rolling on the floor laughing my ass off\",\n",
        "    \"rt\" : \"retweet\",\n",
        "    \"ruok\" : \"are you ok\",\n",
        "    \"sfw\" : \"safe for work\",\n",
        "     \"sk8\" : \"skate\",\n",
        "    \"smh\" : \"shake my head\",\n",
        "    \"sq\" : \"square\",\n",
        "    \"srsly\" : \"seriously\", \n",
        "    \"ssdd\" : \"same stuff different day\",\n",
        "    \"tbh\" : \"to be honest\",\n",
        "    \"tbs\" : \"tablespooful\",\n",
        "    \"tbsp\" : \"tablespooful\",\n",
        "    \"tfw\" : \"that feeling when\",\n",
        "    \"thks\" : \"thank you\",\n",
        "    \"tho\" : \"though\",\n",
        "    \"thx\" : \"thank you\",\n",
        "    \"tia\" : \"thanks in advance\",\n",
        "    \"til\" : \"today i learned\",\n",
        "    \"tl;dr\" : \"too long i did not read\",\n",
        "    \"tldr\" : \"too long i did not read\",\n",
        "    \"tmb\" : \"tweet me back\",\n",
        "    \"tntl\" : \"trying not to laugh\",\n",
        "    \"ttyl\" : \"talk to you later\",\n",
        "    \"u\" : \"you\",\n",
        "    \"u2\" : \"you too\",\n",
        "    \"u4e\" : \"yours for ever\",\n",
        "    \"utc\" : \"coordinated universal time\",\n",
        "    \"w/\" : \"with\",\n",
        "    \"w/o\" : \"without\",\n",
        "    \"w8\" : \"wait\",\n",
        "    \"wassup\" : \"what is up\",\n",
        "    \"wb\" : \"welcome back\",\n",
        "    \"wtf\" : \"what the fuck\",\n",
        "    \"wtg\" : \"way to go\",\n",
        "    \"wtpa\" : \"where the party at\",\n",
        "    \"wuf\" : \"where are you from\",\n",
        "    \"wuzup\" : \"what is up\",\n",
        "    \"wywh\" : \"wish you were here\",\n",
        "    \"yd\" : \"yard\",\n",
        "    \"ygtr\" : \"you got that right\",\n",
        "    \"ynk\" : \"you never know\",\n",
        "    \"zzz\" : \"sleeping bored and tired\"\n",
        "}\n",
        "\n",
        "def convert_abbrev_in_text(tweet):\n",
        "    t=[]\n",
        "    words=tweet.split()\n",
        "    t = [abbreviations[w.lower()] if w.lower() in abbreviations.keys() else w for w in words]\n",
        "    return ' '.join(t) "
      ],
      "execution_count": 280,
      "outputs": []
    },
    {
      "cell_type": "markdown",
      "metadata": {
        "id": "jK6QMnZt7dT2"
      },
      "source": [
        "La fonction suivante exécute les deux fonctions définies au-dessus sur un tweet donné :"
      ]
    },
    {
      "cell_type": "code",
      "metadata": {
        "id": "eh22WxpntD5K"
      },
      "source": [
        "def prepare_string(tweet):\r\n",
        "  tweet = clean(tweet)\r\n",
        "  tweet = convert_abbrev_in_text(tweet)\r\n",
        "  return tweet"
      ],
      "execution_count": 281,
      "outputs": []
    },
    {
      "cell_type": "markdown",
      "metadata": {
        "id": "Q0pRIsdK9gck"
      },
      "source": [
        "Cette étape peut prendre quelques minutes, elle applique la fonction de nettoyage à tous les tweets du corpus de texte et supprime les lignes qui sont vides après le nettoyage."
      ]
    },
    {
      "cell_type": "code",
      "metadata": {
        "id": "ZLRIsX875MuX",
        "colab": {
          "base_uri": "https://localhost:8080/"
        },
        "outputId": "25f7fa93-1dfc-4e1a-dbe6-d94db21186e5"
      },
      "source": [
        "%%time\r\n",
        "# Apply prepare_string to all rows in 'tweets' column\r\n",
        "DF['tweet'] = DF['tweet'].apply(lambda s : prepare_string(s))\r\n",
        "\r\n",
        "# Drop empty values from dataframe\r\n",
        "DF['tweet'].replace('', np.nan, inplace=True)\r\n",
        "DF.dropna(subset=['tweet'], inplace=True)"
      ],
      "execution_count": null,
      "outputs": [
        {
          "output_type": "stream",
          "text": [
            "CPU times: user 4min 59s, sys: 862 ms, total: 5min\n",
            "Wall time: 5min\n"
          ],
          "name": "stdout"
        }
      ]
    },
    {
      "cell_type": "code",
      "metadata": {
        "colab": {
          "base_uri": "https://localhost:8080/",
          "height": 424
        },
        "id": "Rqmx0YFJ5ee-",
        "outputId": "4449463b-035e-418f-951e-9341cc195548"
      },
      "source": [
        "DF.head(25)"
      ],
      "execution_count": null,
      "outputs": [
        {
          "output_type": "execute_result",
          "data": {
            "text/html": [
              "<div>\n",
              "<style scoped>\n",
              "    .dataframe tbody tr th:only-of-type {\n",
              "        vertical-align: middle;\n",
              "    }\n",
              "\n",
              "    .dataframe tbody tr th {\n",
              "        vertical-align: top;\n",
              "    }\n",
              "\n",
              "    .dataframe thead th {\n",
              "        text-align: right;\n",
              "    }\n",
              "</style>\n",
              "<table border=\"1\" class=\"dataframe\">\n",
              "  <thead>\n",
              "    <tr style=\"text-align: right;\">\n",
              "      <th></th>\n",
              "      <th>label</th>\n",
              "      <th>tweet</th>\n",
              "    </tr>\n",
              "  </thead>\n",
              "  <tbody>\n",
              "    <tr>\n",
              "      <th>0</th>\n",
              "      <td>0</td>\n",
              "      <td>awww bummer shoulda got david carr third day</td>\n",
              "    </tr>\n",
              "    <tr>\n",
              "      <th>1</th>\n",
              "      <td>0</td>\n",
              "      <td>upset cannot update facebook texting might cry...</td>\n",
              "    </tr>\n",
              "    <tr>\n",
              "      <th>2</th>\n",
              "      <td>0</td>\n",
              "      <td>dived many times ball managed save rest bounds</td>\n",
              "    </tr>\n",
              "    <tr>\n",
              "      <th>3</th>\n",
              "      <td>0</td>\n",
              "      <td>whole body feels itchy like fire</td>\n",
              "    </tr>\n",
              "    <tr>\n",
              "      <th>4</th>\n",
              "      <td>0</td>\n",
              "      <td>behaving mad cannot see</td>\n",
              "    </tr>\n",
              "    <tr>\n",
              "      <th>...</th>\n",
              "      <td>...</td>\n",
              "      <td>...</td>\n",
              "    </tr>\n",
              "    <tr>\n",
              "      <th>203</th>\n",
              "      <td>0</td>\n",
              "      <td>going kill seen waiting till one solid week si...</td>\n",
              "    </tr>\n",
              "    <tr>\n",
              "      <th>204</th>\n",
              "      <td>0</td>\n",
              "      <td>think right hahaa hours</td>\n",
              "    </tr>\n",
              "    <tr>\n",
              "      <th>205</th>\n",
              "      <td>0</td>\n",
              "      <td>hate see spartans sad</td>\n",
              "    </tr>\n",
              "    <tr>\n",
              "      <th>206</th>\n",
              "      <td>0</td>\n",
              "      <td>mind body severely protesting quotgetting upqu...</td>\n",
              "    </tr>\n",
              "    <tr>\n",
              "      <th>207</th>\n",
              "      <td>0</td>\n",
              "      <td>goin follow since laughing loud angels</td>\n",
              "    </tr>\n",
              "  </tbody>\n",
              "</table>\n",
              "<p>207 rows × 2 columns</p>\n",
              "</div>"
            ],
            "text/plain": [
              "     label                                              tweet\n",
              "0        0       awww bummer shoulda got david carr third day\n",
              "1        0  upset cannot update facebook texting might cry...\n",
              "2        0     dived many times ball managed save rest bounds\n",
              "3        0                   whole body feels itchy like fire\n",
              "4        0                            behaving mad cannot see\n",
              "..     ...                                                ...\n",
              "203      0  going kill seen waiting till one solid week si...\n",
              "204      0                            think right hahaa hours\n",
              "205      0                              hate see spartans sad\n",
              "206      0  mind body severely protesting quotgetting upqu...\n",
              "207      0             goin follow since laughing loud angels\n",
              "\n",
              "[207 rows x 2 columns]"
            ]
          },
          "metadata": {
            "tags": []
          },
          "execution_count": 34
        }
      ]
    },
    {
      "cell_type": "markdown",
      "metadata": {
        "id": "lU2nNYdOTr83"
      },
      "source": [
        "Le DataFrame obtenu est converti en CSV et téléchargé afin d'éviter la ré-exécution du code précédent qui est gourmande en ressources et en temps."
      ]
    },
    {
      "cell_type": "code",
      "metadata": {
        "id": "Tf_KI5RsToKz"
      },
      "source": [
        "DF.to_csv('/content/drive/MyDrive/Twitter_Dataset/cleaned_tweets.csv', index=False)"
      ],
      "execution_count": null,
      "outputs": []
    },
    {
      "cell_type": "markdown",
      "metadata": {
        "id": "yiP8lPpCDJmG"
      },
      "source": [
        "Les données sont maintenant prêtes à être soumises aux différentes méthodes de traitement."
      ]
    },
    {
      "cell_type": "markdown",
      "metadata": {
        "id": "agz-VqOWTPbY"
      },
      "source": [
        "## Récupération de reviews sur Yelp"
      ]
    },
    {
      "cell_type": "code",
      "metadata": {
        "id": "IdAY9xczTbP2"
      },
      "source": [
        "#@markdown Renvoie une review de librairie aléatoire\n",
        "\n",
        "def get_random_review():\n",
        "  # Your Yelp API key here : \n",
        "  api_key = \"\"\n",
        "  headers = {'Authorization': 'Bearer %s' % api_key}\n",
        "\n",
        "  url = 'https://api.yelp.com/v3/businesses/search'\n",
        "  params = {'term':'bookstore','location':'New York City'}\n",
        "\n",
        "  req = requests.get(url, params=params, headers=headers)\n",
        "\n",
        "  parsed = json.loads(req.text)\n",
        "  \n",
        "  businesses = parsed[\"businesses\"]\n",
        "  \n",
        "  business = random.choice(businesses)\n",
        "\n",
        "  id = business[\"id\"]\n",
        "\n",
        "  url=\"https://api.yelp.com/v3/businesses/\" + id + \"/reviews\"\n",
        "\n",
        "  req = requests.get(url, headers=headers)\n",
        "\n",
        "  parsed = json.loads(req.text)\n",
        "\n",
        "  reviews = parsed[\"reviews\"]\n",
        "\n",
        "  return random.choice(reviews)[\"text\"]"
      ],
      "execution_count": 252,
      "outputs": []
    },
    {
      "cell_type": "code",
      "metadata": {
        "colab": {
          "base_uri": "https://localhost:8080/"
        },
        "id": "FH-HTqR2UCLY",
        "outputId": "e6e0429b-c247-4ac3-81a9-c0ae25fe0a35"
      },
      "source": [
        "print(get_random_review())"
      ],
      "execution_count": 253,
      "outputs": [
        {
          "output_type": "stream",
          "text": [
            "NYC landmark - bookstore that lived through the World Wars. Of course I rushed there to use $$$ after seeing their social media post that they needed help...\n"
          ],
          "name": "stdout"
        }
      ]
    },
    {
      "cell_type": "markdown",
      "metadata": {
        "id": "EJ0a3uUi6Y_1"
      },
      "source": [
        "## Récupération de Tweets"
      ]
    },
    {
      "cell_type": "code",
      "metadata": {
        "id": "nDuPwocx6b7s"
      },
      "source": [
        "#@markdown Renvoie un tweet aléatoire contenant le mot donné\n",
        "\n",
        "#@markdown Nécessite une clé d'API Twitter : \n",
        "API_KEY = \"\" #@param {type:\"string\"}\n",
        "SECRET = \"\" #@param {type:\"string\"}\n",
        "# Your Twitter API credentials here : \n",
        "def get_random_tweet(target :string):\n",
        "  credentials = {\n",
        "          'consumer_key': str(API_KEY),\n",
        "          'consumer_secret': str(SECRET)\n",
        "      }\n",
        "  return rt_get_random_tweet(target, credentials)['text']"
      ],
      "execution_count": 248,
      "outputs": []
    },
    {
      "cell_type": "code",
      "metadata": {
        "colab": {
          "base_uri": "https://localhost:8080/"
        },
        "id": "js6t0QEX_ZlI",
        "outputId": "3f30927b-f766-4a2a-db5c-f94283fab9cd"
      },
      "source": [
        "print(get_random_tweet(\"cat\"))"
      ],
      "execution_count": 249,
      "outputs": [
        {
          "output_type": "stream",
          "text": [
            "RT @elenafms: ⁦@jfueyomargareto⁩ sabe mucho, merece la pena escucharlo!!... https://t.co/O1iChu9lxs via @CatalunyaRadio https://t.co/KKF08B…\n"
          ],
          "name": "stdout"
        }
      ]
    },
    {
      "cell_type": "markdown",
      "metadata": {
        "id": "H4QtrcaIvu0v"
      },
      "source": [
        "<a name=\"3\"></a>\r\n",
        "## TF-IDF\r\n",
        "Utilisation de la TF-IDF pour entraîner un modèle capable de prédire le sentiment d'un tweet.\r\n"
      ]
    },
    {
      "cell_type": "code",
      "metadata": {
        "id": "dXq82OWD4O9C",
        "colab": {
          "base_uri": "https://localhost:8080/"
        },
        "outputId": "cdfe5cde-b2a7-4c97-ad67-a6eaf41d435c"
      },
      "source": [
        "#@title Chargement des données\n",
        "#@markdown Si le pré-traitement n'a pas été effectué, il est possible de charger les données pré-traitées depuis le Drive (il faut exécuter la cellule pour valider le choix).\n",
        "load_saved_data = True #@param {type:\"boolean\"}\n",
        "\n",
        "#Optionnel : Rechargement des tweets nettoyés à partir du drive \n",
        "if load_saved_data:\n",
        "  from google.colab import drive\n",
        "  drive.mount('/content/drive/', force_remount=True)\n",
        "  DF = pd.read_csv('/content/drive/MyDrive/Twitter_Dataset/cleaned_tweets.csv',encoding='latin', names=[\"label\",\"tweet\"], header=None, skiprows=1)\n"
      ],
      "execution_count": 218,
      "outputs": [
        {
          "output_type": "stream",
          "text": [
            "Mounted at /content/drive/\n"
          ],
          "name": "stdout"
        }
      ]
    },
    {
      "cell_type": "markdown",
      "metadata": {
        "id": "nxR4D7fkbrBa"
      },
      "source": [
        "#### Répartition des données de test et d'entraînement"
      ]
    },
    {
      "cell_type": "code",
      "metadata": {
        "id": "U1S6ll4V4eXR"
      },
      "source": [
        "# Utiliser toutes les données excède la capacité de RAM du Notebook \r\n",
        "corpus_size = int(20000)\r\n",
        "\r\n",
        "# Les tweets sont choisis au début et à la fin du jeu de données pour avoir des sentiments positifs et négatifs à parts égales\r\n",
        "tweets = [*DF['tweet'].values[:int(corpus_size/2)], *DF['tweet'].values[-int(corpus_size/2):]]\r\n",
        "# De même pour les targets assoicées\r\n",
        "y = [*DF['label'].values[:int(corpus_size/2)], *DF['label'].values[-int(corpus_size/2):]]\r\n",
        "\r\n",
        "# Le jeu de données est découpé pour entraîner le classifier\r\n",
        "X_train, X_test, y_train, y_test = train_test_split(X, y, test_size=.025, random_state=0)\r\n"
      ],
      "execution_count": 197,
      "outputs": []
    },
    {
      "cell_type": "markdown",
      "metadata": {
        "id": "MCpeM1cdbynx"
      },
      "source": [
        "#### Vectorisation en TF IDF "
      ]
    },
    {
      "cell_type": "code",
      "metadata": {
        "id": "gw7xeei840Cj"
      },
      "source": [
        "# J'utilise la bibliothèque sklearn qui implémente la TF-IDF\r\n",
        "tfIdfVectorizer = TfidfVectorizer()\r\n",
        "X = tfIdfVectorizer.fit_transform(tweets).toarray()"
      ],
      "execution_count": 198,
      "outputs": []
    },
    {
      "cell_type": "markdown",
      "metadata": {
        "id": "GCp7-AeEb4Kt"
      },
      "source": [
        "#### Création et entraînement du modèle de classification"
      ]
    },
    {
      "cell_type": "code",
      "metadata": {
        "colab": {
          "base_uri": "https://localhost:8080/"
        },
        "id": "HfQfMCY3KGL5",
        "outputId": "721771b4-e02e-4fc6-99c2-7ff8e7b080c2"
      },
      "source": [
        "# La classification est une RandomForestClassifier dont le nombre d'estimateurs a été réduit à 15 pour des raisons de RAM\r\n",
        "text_classifier = RandomForestClassifier(n_estimators=15, random_state=0)  \r\n",
        "text_classifier.fit(X_train, y_train )"
      ],
      "execution_count": 138,
      "outputs": [
        {
          "output_type": "execute_result",
          "data": {
            "text/plain": [
              "RandomForestClassifier(bootstrap=True, ccp_alpha=0.0, class_weight=None,\n",
              "                       criterion='gini', max_depth=None, max_features='auto',\n",
              "                       max_leaf_nodes=None, max_samples=None,\n",
              "                       min_impurity_decrease=0.0, min_impurity_split=None,\n",
              "                       min_samples_leaf=1, min_samples_split=2,\n",
              "                       min_weight_fraction_leaf=0.0, n_estimators=15,\n",
              "                       n_jobs=None, oob_score=False, random_state=0, verbose=0,\n",
              "                       warm_start=False)"
            ]
          },
          "metadata": {
            "tags": []
          },
          "execution_count": 138
        }
      ]
    },
    {
      "cell_type": "code",
      "metadata": {
        "colab": {
          "base_uri": "https://localhost:8080/"
        },
        "id": "nu7mzwUJ5jJ_",
        "outputId": "cd26c5d1-c018-488f-e735-e6825c5ed26b"
      },
      "source": [
        "predictions = text_classifier.predict(X_test)\r\n",
        "\r\n",
        "# Matrice des vrais positifs/négatifs et faux positifs/négatifs\r\n",
        "print(confusion_matrix(y_test,predictions)) \r\n",
        "# Résumé de la classification\r\n",
        "print(classification_report(y_test,predictions))  \r\n",
        "# Précision finale ( 0.724 )\r\n",
        "print(accuracy_score(y_test, predictions))"
      ],
      "execution_count": 139,
      "outputs": [
        {
          "output_type": "stream",
          "text": [
            "[[163  78]\n",
            " [ 53 206]]\n",
            "              precision    recall  f1-score   support\n",
            "\n",
            "           0       0.75      0.68      0.71       241\n",
            "           1       0.73      0.80      0.76       259\n",
            "\n",
            "    accuracy                           0.74       500\n",
            "   macro avg       0.74      0.74      0.74       500\n",
            "weighted avg       0.74      0.74      0.74       500\n",
            "\n",
            "0.738\n"
          ],
          "name": "stdout"
        }
      ]
    },
    {
      "cell_type": "markdown",
      "metadata": {
        "id": "kUru-YD4PUH6"
      },
      "source": [
        "\r\n",
        "On observe que le modèle a un taux correct de précision et évite relativement les faux positifs et les faux négatifs.\r\n",
        "\r\n",
        "---\r\n",
        "Le classifier et le vectorizer sont sauvegardés pour réduire le temps de calcul lors de l'utilisation normale.\r\n",
        "Le vectorizer contient le vocabulaire appris et le classifier permet d'estimer le sentiment du tweet.\r\n"
      ]
    },
    {
      "cell_type": "code",
      "metadata": {
        "colab": {
          "base_uri": "https://localhost:8080/"
        },
        "id": "2WjoXEzJ35q8",
        "outputId": "d5c6dd42-6957-4025-803a-047e2b6940e6"
      },
      "source": [
        "dump(text_classifier, '/content/drive/MyDrive/Twitter_Dataset/RandomForestTextClassifier.joblib')\r\n",
        "dump(tfIdfVectorizer, '/content/drive/MyDrive/Twitter_Dataset/tfIdfVectorizer.joblib')"
      ],
      "execution_count": 142,
      "outputs": [
        {
          "output_type": "execute_result",
          "data": {
            "text/plain": [
              "['/content/drive/MyDrive/Twitter_Dataset/tfIdfVectorizer.joblib']"
            ]
          },
          "metadata": {
            "tags": []
          },
          "execution_count": 142
        }
      ]
    },
    {
      "cell_type": "markdown",
      "metadata": {
        "id": "B5bQ3-6YRZ9r"
      },
      "source": [
        "### Pipeline complète d'utilisation de la TF-IDF :"
      ]
    },
    {
      "cell_type": "code",
      "metadata": {
        "id": "ihS3g5wgAavo"
      },
      "source": [
        "loaded_classifier = load('/content/drive/MyDrive/Twitter_Dataset/RandomForestTextClassifier.joblib')\r\n",
        "loaded_vectorizer = load('/content/drive/MyDrive/Twitter_Dataset/tfIdfVectorizer.joblib')\r\n",
        "\r\n",
        "def tf_idf_pipeline_from_tweets(subject :str):\r\n",
        "  raw_tweet = get_random_tweet(subject)\r\n",
        "  print(\"Raw Tweet : \" + raw_tweet)\r\n",
        "  cleaned_tweet = prepare_string(raw_tweet)\r\n",
        "  print(\"Processed Tweet : \" + cleaned_tweet)\r\n",
        "  word_vector = loaded_vectorizer.transform([cleaned_tweet])\r\n",
        "\r\n",
        "  return bool(loaded_classifier.predict(word_vector.reshape(1,-1))[0])\r\n",
        "\r\n",
        "def tf_idf_pipeline_from_yelp():\r\n",
        "  raw_tweet = get_random_review()\r\n",
        "  print(\"Raw Review : \" + raw_tweet)\r\n",
        "  cleaned_tweet = prepare_string(raw_tweet)\r\n",
        "  print(\"Processed Review : \" + cleaned_tweet)\r\n",
        "  word_vector = loaded_vectorizer.transform([cleaned_tweet])\r\n",
        "\r\n",
        "  return bool(loaded_classifier.predict(word_vector.reshape(1,-1))[0])\r\n",
        "\r\n"
      ],
      "execution_count": 250,
      "outputs": []
    },
    {
      "cell_type": "code",
      "metadata": {
        "colab": {
          "base_uri": "https://localhost:8080/"
        },
        "id": "p6kJuVNfFQ_z",
        "outputId": "f5db34e1-fa14-4ad1-95b8-fc10d4c51d5c"
      },
      "source": [
        "print(tf_idf_pipeline_from_tweets(\"pizza\"))\r\n",
        "print(tf_idf_pipeline_from_yelp())"
      ],
      "execution_count": 251,
      "outputs": [
        {
          "output_type": "stream",
          "text": [
            "Raw Tweet : hmmmmmmmmmmmmm vou pedi minha pizza com o ✨meu✨ cupom de desconto o ✨MEU✨ tô me achando mto\n",
            "Processed Tweet : hmmmmmmmmmmmmm vou pedi minha pizza com meu cupom desconto meu achando mto\n",
            "False\n",
            "aaaaaaaa\n",
            "gfggedrf\n",
            "Raw Review : BOOKS + Beer!!! Came here for a friends book reading. It's a very cool space, but just make sure your group is small.  Also this place is super chill and...\n",
            "Processed Review : books beer came friends book reading cool space make sure group small also place super chill\n",
            "True\n"
          ],
          "name": "stdout"
        }
      ]
    },
    {
      "cell_type": "markdown",
      "metadata": {
        "id": "dc4xllsMEgKp"
      },
      "source": [
        "En faisant quelques essais, on observe que la précision des prédictions est beaucoup plus faible lorsqu'il s'agit d'analyser des reviews. Cela peut être dû au fait que le modèle est entraîné sur des tweets. Cela peut aussi être dû au fait que Yelp ne permet d'obtenir que les 160 premiers caractères d'une review."
      ]
    },
    {
      "cell_type": "markdown",
      "metadata": {
        "id": "r-DHwrWbDG1b"
      },
      "source": [
        "<a name=\"4\"></a>\r\n",
        "## RNN & LSTM : GLoVe"
      ]
    },
    {
      "cell_type": "code",
      "metadata": {
        "id": "y6RVQNKP-3ce",
        "colab": {
          "base_uri": "https://localhost:8080/"
        },
        "outputId": "40f93bdd-a77c-45c6-f9f1-dbd0b2d3cb81"
      },
      "source": [
        "#@title Chargement des données\n",
        "#@markdown Si le pré-traitement n'a pas été effectué, il est possible de charger les données pré-traitées depuis le Drive.\n",
        "load_saved_data = True #@param {type:\"boolean\"}\n",
        "\n",
        "#Optionnel : Rechargement des tweets nettoyés à partir du drive:\n",
        "if load_saved_data:\n",
        "  from google.colab import drive\n",
        "  drive.mount('/content/drive/', force_remount=True)\n",
        "  DF = pd.read_csv('/content/drive/MyDrive/Twitter_Dataset/cleaned_tweets.csv',encoding='latin', names=[\"label\",\"tweet\"], header=None, skiprows=1)\n"
      ],
      "execution_count": 255,
      "outputs": [
        {
          "output_type": "stream",
          "text": [
            "Mounted at /content/drive/\n"
          ],
          "name": "stdout"
        }
      ]
    },
    {
      "cell_type": "markdown",
      "metadata": {
        "id": "VO6dEIFVKfzR"
      },
      "source": [
        "La cellules suivante permet d'adapter la stratégie d'entrînement du modèle au matériel mis à disposition."
      ]
    },
    {
      "cell_type": "code",
      "metadata": {
        "colab": {
          "base_uri": "https://localhost:8080/"
        },
        "id": "fZOalu3gDOAq",
        "outputId": "254b23a0-8a6a-4eda-c8e9-46bbbfea1c02"
      },
      "source": [
        "try:\r\n",
        "    tpu = tf.distribute.cluster_resolver.TPUClusterResolver()\r\n",
        "    print('Device:', tpu.master())\r\n",
        "    tf.config.experimental_connect_to_cluster(tpu)\r\n",
        "    tf.tpu.experimental.initialize_tpu_system(tpu)\r\n",
        "    strategy = tf.distribute.experimental.TPUStrategy(tpu)\r\n",
        "except:\r\n",
        "    strategy = tf.distribute.get_strategy()\r\n",
        "print('Number of replicas:', strategy.num_replicas_in_sync)\r\n",
        "\r\n",
        "AUTOTUNE = tf.data.experimental.AUTOTUNE\r\n",
        "BATCH_SIZE = 16 * strategy.num_replicas_in_sync"
      ],
      "execution_count": 256,
      "outputs": [
        {
          "output_type": "stream",
          "text": [
            "Device: grpc://10.9.178.90:8470\n",
            "WARNING:tensorflow:TPU system grpc://10.9.178.90:8470 has already been initialized. Reinitializing the TPU can cause previously created variables on TPU to be lost.\n"
          ],
          "name": "stdout"
        },
        {
          "output_type": "stream",
          "text": [
            "WARNING:tensorflow:TPU system grpc://10.9.178.90:8470 has already been initialized. Reinitializing the TPU can cause previously created variables on TPU to be lost.\n"
          ],
          "name": "stderr"
        },
        {
          "output_type": "stream",
          "text": [
            "INFO:tensorflow:Initializing the TPU system: grpc://10.9.178.90:8470\n"
          ],
          "name": "stdout"
        },
        {
          "output_type": "stream",
          "text": [
            "INFO:tensorflow:Initializing the TPU system: grpc://10.9.178.90:8470\n"
          ],
          "name": "stderr"
        },
        {
          "output_type": "stream",
          "text": [
            "INFO:tensorflow:Clearing out eager caches\n"
          ],
          "name": "stdout"
        },
        {
          "output_type": "stream",
          "text": [
            "INFO:tensorflow:Clearing out eager caches\n"
          ],
          "name": "stderr"
        },
        {
          "output_type": "stream",
          "text": [
            "INFO:tensorflow:Finished initializing TPU system.\n"
          ],
          "name": "stdout"
        },
        {
          "output_type": "stream",
          "text": [
            "INFO:tensorflow:Finished initializing TPU system.\n",
            "WARNING:absl:`tf.distribute.experimental.TPUStrategy` is deprecated, please use  the non experimental symbol `tf.distribute.TPUStrategy` instead.\n"
          ],
          "name": "stderr"
        },
        {
          "output_type": "stream",
          "text": [
            "INFO:tensorflow:Found TPU system:\n"
          ],
          "name": "stdout"
        },
        {
          "output_type": "stream",
          "text": [
            "INFO:tensorflow:Found TPU system:\n"
          ],
          "name": "stderr"
        },
        {
          "output_type": "stream",
          "text": [
            "INFO:tensorflow:*** Num TPU Cores: 8\n"
          ],
          "name": "stdout"
        },
        {
          "output_type": "stream",
          "text": [
            "INFO:tensorflow:*** Num TPU Cores: 8\n"
          ],
          "name": "stderr"
        },
        {
          "output_type": "stream",
          "text": [
            "INFO:tensorflow:*** Num TPU Workers: 1\n"
          ],
          "name": "stdout"
        },
        {
          "output_type": "stream",
          "text": [
            "INFO:tensorflow:*** Num TPU Workers: 1\n"
          ],
          "name": "stderr"
        },
        {
          "output_type": "stream",
          "text": [
            "INFO:tensorflow:*** Num TPU Cores Per Worker: 8\n"
          ],
          "name": "stdout"
        },
        {
          "output_type": "stream",
          "text": [
            "INFO:tensorflow:*** Num TPU Cores Per Worker: 8\n"
          ],
          "name": "stderr"
        },
        {
          "output_type": "stream",
          "text": [
            "INFO:tensorflow:*** Available Device: _DeviceAttributes(/job:localhost/replica:0/task:0/device:CPU:0, CPU, 0, 0)\n"
          ],
          "name": "stdout"
        },
        {
          "output_type": "stream",
          "text": [
            "INFO:tensorflow:*** Available Device: _DeviceAttributes(/job:localhost/replica:0/task:0/device:CPU:0, CPU, 0, 0)\n"
          ],
          "name": "stderr"
        },
        {
          "output_type": "stream",
          "text": [
            "INFO:tensorflow:*** Available Device: _DeviceAttributes(/job:worker/replica:0/task:0/device:CPU:0, CPU, 0, 0)\n"
          ],
          "name": "stdout"
        },
        {
          "output_type": "stream",
          "text": [
            "INFO:tensorflow:*** Available Device: _DeviceAttributes(/job:worker/replica:0/task:0/device:CPU:0, CPU, 0, 0)\n"
          ],
          "name": "stderr"
        },
        {
          "output_type": "stream",
          "text": [
            "INFO:tensorflow:*** Available Device: _DeviceAttributes(/job:worker/replica:0/task:0/device:TPU:0, TPU, 0, 0)\n"
          ],
          "name": "stdout"
        },
        {
          "output_type": "stream",
          "text": [
            "INFO:tensorflow:*** Available Device: _DeviceAttributes(/job:worker/replica:0/task:0/device:TPU:0, TPU, 0, 0)\n"
          ],
          "name": "stderr"
        },
        {
          "output_type": "stream",
          "text": [
            "INFO:tensorflow:*** Available Device: _DeviceAttributes(/job:worker/replica:0/task:0/device:TPU:1, TPU, 0, 0)\n"
          ],
          "name": "stdout"
        },
        {
          "output_type": "stream",
          "text": [
            "INFO:tensorflow:*** Available Device: _DeviceAttributes(/job:worker/replica:0/task:0/device:TPU:1, TPU, 0, 0)\n"
          ],
          "name": "stderr"
        },
        {
          "output_type": "stream",
          "text": [
            "INFO:tensorflow:*** Available Device: _DeviceAttributes(/job:worker/replica:0/task:0/device:TPU:2, TPU, 0, 0)\n"
          ],
          "name": "stdout"
        },
        {
          "output_type": "stream",
          "text": [
            "INFO:tensorflow:*** Available Device: _DeviceAttributes(/job:worker/replica:0/task:0/device:TPU:2, TPU, 0, 0)\n"
          ],
          "name": "stderr"
        },
        {
          "output_type": "stream",
          "text": [
            "INFO:tensorflow:*** Available Device: _DeviceAttributes(/job:worker/replica:0/task:0/device:TPU:3, TPU, 0, 0)\n"
          ],
          "name": "stdout"
        },
        {
          "output_type": "stream",
          "text": [
            "INFO:tensorflow:*** Available Device: _DeviceAttributes(/job:worker/replica:0/task:0/device:TPU:3, TPU, 0, 0)\n"
          ],
          "name": "stderr"
        },
        {
          "output_type": "stream",
          "text": [
            "INFO:tensorflow:*** Available Device: _DeviceAttributes(/job:worker/replica:0/task:0/device:TPU:4, TPU, 0, 0)\n"
          ],
          "name": "stdout"
        },
        {
          "output_type": "stream",
          "text": [
            "INFO:tensorflow:*** Available Device: _DeviceAttributes(/job:worker/replica:0/task:0/device:TPU:4, TPU, 0, 0)\n"
          ],
          "name": "stderr"
        },
        {
          "output_type": "stream",
          "text": [
            "INFO:tensorflow:*** Available Device: _DeviceAttributes(/job:worker/replica:0/task:0/device:TPU:5, TPU, 0, 0)\n"
          ],
          "name": "stdout"
        },
        {
          "output_type": "stream",
          "text": [
            "INFO:tensorflow:*** Available Device: _DeviceAttributes(/job:worker/replica:0/task:0/device:TPU:5, TPU, 0, 0)\n"
          ],
          "name": "stderr"
        },
        {
          "output_type": "stream",
          "text": [
            "INFO:tensorflow:*** Available Device: _DeviceAttributes(/job:worker/replica:0/task:0/device:TPU:6, TPU, 0, 0)\n"
          ],
          "name": "stdout"
        },
        {
          "output_type": "stream",
          "text": [
            "INFO:tensorflow:*** Available Device: _DeviceAttributes(/job:worker/replica:0/task:0/device:TPU:6, TPU, 0, 0)\n"
          ],
          "name": "stderr"
        },
        {
          "output_type": "stream",
          "text": [
            "INFO:tensorflow:*** Available Device: _DeviceAttributes(/job:worker/replica:0/task:0/device:TPU:7, TPU, 0, 0)\n"
          ],
          "name": "stdout"
        },
        {
          "output_type": "stream",
          "text": [
            "INFO:tensorflow:*** Available Device: _DeviceAttributes(/job:worker/replica:0/task:0/device:TPU:7, TPU, 0, 0)\n"
          ],
          "name": "stderr"
        },
        {
          "output_type": "stream",
          "text": [
            "INFO:tensorflow:*** Available Device: _DeviceAttributes(/job:worker/replica:0/task:0/device:TPU_SYSTEM:0, TPU_SYSTEM, 0, 0)\n"
          ],
          "name": "stdout"
        },
        {
          "output_type": "stream",
          "text": [
            "INFO:tensorflow:*** Available Device: _DeviceAttributes(/job:worker/replica:0/task:0/device:TPU_SYSTEM:0, TPU_SYSTEM, 0, 0)\n"
          ],
          "name": "stderr"
        },
        {
          "output_type": "stream",
          "text": [
            "INFO:tensorflow:*** Available Device: _DeviceAttributes(/job:worker/replica:0/task:0/device:XLA_CPU:0, XLA_CPU, 0, 0)\n"
          ],
          "name": "stdout"
        },
        {
          "output_type": "stream",
          "text": [
            "INFO:tensorflow:*** Available Device: _DeviceAttributes(/job:worker/replica:0/task:0/device:XLA_CPU:0, XLA_CPU, 0, 0)\n"
          ],
          "name": "stderr"
        },
        {
          "output_type": "stream",
          "text": [
            "Number of replicas: 8\n"
          ],
          "name": "stdout"
        }
      ]
    },
    {
      "cell_type": "code",
      "metadata": {
        "id": "hpqj6CAfDqRg",
        "colab": {
          "base_uri": "https://localhost:8080/"
        },
        "outputId": "9c89e635-c327-4f9f-99ae-abf46e28976a"
      },
      "source": [
        "# Création de tuples (tweet, label) en prévision du mélange des données\r\n",
        "corpus = list(zip(DF['tweet'].values, DF['label'].values))\r\n",
        "\r\n",
        "\r\n",
        "embedding_dim = 100    # Dimensions utilisées pour glove6b100\r\n",
        "max_length = 20        # Taille maximale d'un tweet\r\n",
        "trunc_type='post'      # Tronque le tweet s'il est plus long que max_length\r\n",
        "padding_type='post'    # Ajoute du padding à la fin du tweet s'il est plus court que max_length\r\n",
        "oov_tok = \"<OOV>\"      # Token \"<OOV>\" remplace les mots qui ne font pas partie du vocabulaire (Out Of Vocabulary)\r\n",
        "training_size=len(corpus)\r\n",
        "test_portion=.025\r\n",
        "\r\n",
        "\r\n",
        "corpus[:5]"
      ],
      "execution_count": 257,
      "outputs": [
        {
          "output_type": "execute_result",
          "data": {
            "text/plain": [
              "[('awww bummer shoulda got david carr third day', 0),\n",
              " ('upset cannot update facebook texting might cry result school today also blah',\n",
              "  0),\n",
              " ('dived many times ball managed save rest bounds', 0),\n",
              " ('whole body feels itchy like fire', 0),\n",
              " ('behaving mad cannot see', 0)]"
            ]
          },
          "metadata": {
            "tags": []
          },
          "execution_count": 257
        }
      ]
    },
    {
      "cell_type": "markdown",
      "metadata": {
        "id": "fylrp--0a06D"
      },
      "source": [
        "#### Répartition des données de test et d'entraînement"
      ]
    },
    {
      "cell_type": "code",
      "metadata": {
        "id": "Pt29Cm8IGrSJ"
      },
      "source": [
        "sentences=[]\r\n",
        "labels=[]\r\n",
        "\r\n",
        "# Mélange des données\r\n",
        "random.shuffle(corpus)\r\n",
        "\r\n",
        "# Séparation des labels et des tweets\r\n",
        "for x in range(training_size):\r\n",
        "    sentences.append(str(corpus[x][0]))\r\n",
        "    labels.append(corpus[x][1])\r\n",
        "\r\n",
        "# Formation du vocabulaire sur les tweets\r\n",
        "tokenizer = Tokenizer()\r\n",
        "tokenizer.fit_on_texts(sentences)\r\n",
        "\r\n",
        "# Création de la map comportant les mots du vocabulaire associés à des indices\r\n",
        "word_index = tokenizer.word_index\r\n",
        "vocab_size=len(word_index)\r\n",
        "\r\n",
        "# Création de vecteurs one-hot à partir des tweets\r\n",
        "sequences = tokenizer.texts_to_sequences(sentences)\r\n",
        "padded = pad_sequences(sequences, maxlen=max_length, padding=padding_type, truncating=trunc_type)\r\n",
        "\r\n",
        "# Création des jeux d'entraînement pour le réseau neuronal\r\n",
        "split = int(test_portion * training_size)\r\n",
        "\r\n",
        "test_sequences = padded[0:split]\r\n",
        "training_sequences = padded[split:training_size]\r\n",
        "test_labels = labels[0:split]\r\n",
        "training_labels = labels[split:training_size]"
      ],
      "execution_count": 258,
      "outputs": []
    },
    {
      "cell_type": "code",
      "metadata": {
        "colab": {
          "base_uri": "https://localhost:8080/"
        },
        "id": "XkgQhqWGi6q9",
        "outputId": "b7465bc0-5aa5-4b6c-d4bf-639cb19ecc06"
      },
      "source": [
        "# Save tokenizer for later\r\n",
        "dump(tokenizer, '/content/drive/MyDrive/Twitter_Dataset/RNNTokenizer.joblib')"
      ],
      "execution_count": 270,
      "outputs": [
        {
          "output_type": "execute_result",
          "data": {
            "text/plain": [
              "['/content/drive/MyDrive/Twitter_Dataset/RNNTokenizer.joblib']"
            ]
          },
          "metadata": {
            "tags": []
          },
          "execution_count": 270
        }
      ]
    },
    {
      "cell_type": "markdown",
      "metadata": {
        "id": "tg6p4Ivpa-h6"
      },
      "source": [
        "#### GLoVe : Création de la matrice de poids"
      ]
    },
    {
      "cell_type": "code",
      "metadata": {
        "id": "BiZwqg0aJAer"
      },
      "source": [
        "embeddings_index = {};\r\n",
        "\r\n",
        "\r\n",
        "with open('/content/drive/MyDrive/Twitter_Dataset/glove.6B.100d.txt') as f:\r\n",
        "    for line in f:\r\n",
        "        values = line.split();\r\n",
        "        word = values[0];\r\n",
        "        coefs = np.asarray(values[1:], dtype='float32');\r\n",
        "        embeddings_index[word] = coefs;\r\n",
        "\r\n",
        "embeddings_matrix = np.zeros((vocab_size+1, embedding_dim));\r\n",
        "for word, i in word_index.items():\r\n",
        "    embedding_vector = embeddings_index.get(word);\r\n",
        "    if embedding_vector is not None:\r\n",
        "        embeddings_matrix[i] = embedding_vector;"
      ],
      "execution_count": 259,
      "outputs": []
    },
    {
      "cell_type": "markdown",
      "metadata": {
        "id": "ilGyd-i0bIBq"
      },
      "source": [
        "#### Création du réseau neuronal LSTM"
      ]
    },
    {
      "cell_type": "code",
      "metadata": {
        "id": "Uc4iTiqSX94C",
        "colab": {
          "base_uri": "https://localhost:8080/"
        },
        "outputId": "51609738-7389-4afd-dfe8-3e5f9dcf7a41"
      },
      "source": [
        "with strategy.scope():    \r\n",
        "    \r\n",
        "    model = tf.keras.Sequential([\r\n",
        "        tf.keras.layers.Embedding(vocab_size+1, embedding_dim, input_length=max_length, weights=[embeddings_matrix], trainable=False), # Couche d'entrée chargée avec les poids de GLoVe\r\n",
        "        tf.keras.layers.Dropout(0.5),\r\n",
        "        tf.keras.layers.Bidirectional(LSTM(units=64, return_sequences=True)),\r\n",
        "        tf.keras.layers.Bidirectional(LSTM(units=128)),\r\n",
        "        tf.keras.layers.Dense(64, activation='relu', kernel_regularizer=regularizers.l2(0.01)),\r\n",
        "        tf.keras.layers.Dense(1, activation='sigmoid')\r\n",
        "    ])\r\n",
        "    model.compile(loss='binary_crossentropy',optimizer='adam',metrics=['accuracy'])\r\n",
        "    model.summary()\r\n",
        "       \r\n",
        "  "
      ],
      "execution_count": 260,
      "outputs": [
        {
          "output_type": "stream",
          "text": [
            "Model: \"sequential\"\n",
            "_________________________________________________________________\n",
            "Layer (type)                 Output Shape              Param #   \n",
            "=================================================================\n",
            "embedding (Embedding)        (None, 20, 100)           41561800  \n",
            "_________________________________________________________________\n",
            "dropout (Dropout)            (None, 20, 100)           0         \n",
            "_________________________________________________________________\n",
            "bidirectional (Bidirectional (None, 20, 128)           84480     \n",
            "_________________________________________________________________\n",
            "bidirectional_1 (Bidirection (None, 256)               263168    \n",
            "_________________________________________________________________\n",
            "dense (Dense)                (None, 64)                16448     \n",
            "_________________________________________________________________\n",
            "dense_1 (Dense)              (None, 1)                 65        \n",
            "=================================================================\n",
            "Total params: 41,925,961\n",
            "Trainable params: 364,161\n",
            "Non-trainable params: 41,561,800\n",
            "_________________________________________________________________\n"
          ],
          "name": "stdout"
        }
      ]
    },
    {
      "cell_type": "markdown",
      "metadata": {
        "id": "lDNHJwK0bUbn"
      },
      "source": [
        "#### Entraînement et sauvegarde du modèle"
      ]
    },
    {
      "cell_type": "code",
      "metadata": {
        "id": "ATEe5yMhoppi"
      },
      "source": [
        "num_epochs = 10\r\n",
        "\r\n",
        "training_padded = np.array(training_sequences)\r\n",
        "training_labels = np.array(training_labels)\r\n",
        "testing_padded = np.array(test_sequences)\r\n",
        "testing_labels = np.array(test_labels)"
      ],
      "execution_count": 261,
      "outputs": []
    },
    {
      "cell_type": "code",
      "metadata": {
        "id": "Oh75HkKJolB_",
        "colab": {
          "base_uri": "https://localhost:8080/"
        },
        "outputId": "bbc6145b-da4e-4caf-e928-58c8519a7e70"
      },
      "source": [
        "history = model.fit(training_padded, \r\n",
        "                      training_labels, \r\n",
        "                      epochs=num_epochs, \r\n",
        "                      validation_data=(testing_padded, testing_labels),\r\n",
        "                      batch_size = 256,\r\n",
        "                      verbose=1)\r\n",
        "  \r\n",
        "print(\"Training Complete\")"
      ],
      "execution_count": 262,
      "outputs": [
        {
          "output_type": "stream",
          "text": [
            "Epoch 1/10\n",
            "6059/6059 [==============================] - 138s 21ms/step - loss: 0.6108 - accuracy: 0.6978 - val_loss: 0.4943 - val_accuracy: 0.7613\n",
            "Epoch 2/10\n",
            "6059/6059 [==============================] - 124s 20ms/step - loss: 0.5202 - accuracy: 0.7397 - val_loss: 0.4784 - val_accuracy: 0.7693\n",
            "Epoch 3/10\n",
            "6059/6059 [==============================] - 126s 21ms/step - loss: 0.5059 - accuracy: 0.7501 - val_loss: 0.4722 - val_accuracy: 0.7723\n",
            "Epoch 4/10\n",
            "6059/6059 [==============================] - 125s 21ms/step - loss: 0.4991 - accuracy: 0.7552 - val_loss: 0.4678 - val_accuracy: 0.7748\n",
            "Epoch 5/10\n",
            "6059/6059 [==============================] - 124s 20ms/step - loss: 0.4951 - accuracy: 0.7580 - val_loss: 0.4693 - val_accuracy: 0.7760\n",
            "Epoch 6/10\n",
            "6059/6059 [==============================] - 126s 21ms/step - loss: 0.4918 - accuracy: 0.7596 - val_loss: 0.4678 - val_accuracy: 0.7765\n",
            "Epoch 7/10\n",
            "6059/6059 [==============================] - 124s 20ms/step - loss: 0.4881 - accuracy: 0.7620 - val_loss: 0.4620 - val_accuracy: 0.7807\n",
            "Epoch 8/10\n",
            "6059/6059 [==============================] - 126s 21ms/step - loss: 0.4867 - accuracy: 0.7631 - val_loss: 0.4625 - val_accuracy: 0.7795\n",
            "Epoch 9/10\n",
            "6059/6059 [==============================] - 125s 21ms/step - loss: 0.4837 - accuracy: 0.7649 - val_loss: 0.4588 - val_accuracy: 0.7807\n",
            "Epoch 10/10\n",
            "6059/6059 [==============================] - 124s 21ms/step - loss: 0.4809 - accuracy: 0.7664 - val_loss: 0.4573 - val_accuracy: 0.7826\n",
            "Training Complete\n"
          ],
          "name": "stdout"
        }
      ]
    },
    {
      "cell_type": "code",
      "metadata": {
        "id": "MdBcaDrT21hf"
      },
      "source": [
        "model.save('/content/drive/MyDrive/Twitter_Dataset/model.h5')"
      ],
      "execution_count": 264,
      "outputs": []
    },
    {
      "cell_type": "markdown",
      "metadata": {
        "id": "wy-q2lj9bdse"
      },
      "source": [
        "#### Affichage de la progression du modèle"
      ]
    },
    {
      "cell_type": "code",
      "metadata": {
        "id": "1QICOugHYQWq",
        "colab": {
          "base_uri": "https://localhost:8080/",
          "height": 610
        },
        "outputId": "4018af35-7d2e-4481-f0b4-b1411c658650"
      },
      "source": [
        "import matplotlib.image  as mpimg\r\n",
        "import matplotlib.pyplot as plt\r\n",
        "\r\n",
        "\r\n",
        "#-----------------------------------------------------------\r\n",
        "# Retrieve a list of list results on training and test data\r\n",
        "# sets for each training epoch\r\n",
        "#-----------------------------------------------------------\r\n",
        "acc=history.history['accuracy']\r\n",
        "val_acc=history.history['val_accuracy']\r\n",
        "loss=history.history['loss']\r\n",
        "val_loss=history.history['val_loss']\r\n",
        "\r\n",
        "epochs=range(len(acc)) # Get number of epochs\r\n",
        "\r\n",
        "#------------------------------------------------\r\n",
        "# Plot training and validation accuracy per epoch\r\n",
        "#------------------------------------------------\r\n",
        "plt.plot(epochs, acc, 'r')\r\n",
        "plt.plot(epochs, val_acc, 'b')\r\n",
        "plt.title('Training and validation accuracy')\r\n",
        "plt.xlabel(\"Epochs\")\r\n",
        "plt.ylabel(\"Accuracy\")\r\n",
        "plt.legend([\"Accuracy\", \"Validation Accuracy\"])\r\n",
        "\r\n",
        "plt.figure()\r\n",
        "\r\n",
        "#------------------------------------------------\r\n",
        "# Plot training and validation loss per epoch\r\n",
        "#------------------------------------------------\r\n",
        "plt.plot(epochs, loss, 'r')\r\n",
        "plt.plot(epochs, val_loss, 'b')\r\n",
        "plt.title('Training and validation loss')\r\n",
        "plt.xlabel(\"Epochs\")\r\n",
        "plt.ylabel(\"Loss\")\r\n",
        "plt.legend([\"Loss\", \"Validation Loss\"])\r\n",
        "\r\n",
        "plt.figure()"
      ],
      "execution_count": null,
      "outputs": [
        {
          "output_type": "execute_result",
          "data": {
            "text/plain": [
              "<Figure size 432x288 with 0 Axes>"
            ]
          },
          "metadata": {
            "tags": []
          },
          "execution_count": 69
        },
        {
          "output_type": "display_data",
          "data": {
            "image/png": "[encoded data removed]",
            "text/plain": [
              "<Figure size 432x288 with 1 Axes>"
            ]
          },
          "metadata": {
            "tags": [],
            "needs_background": "light"
          }
        },
        {
          "output_type": "display_data",
          "data": {
            "image/png": "[encoded data removed]",
            "text/plain": [
              "<Figure size 432x288 with 1 Axes>"
            ]
          },
          "metadata": {
            "tags": [],
            "needs_background": "light"
          }
        },
        {
          "output_type": "display_data",
          "data": {
            "text/plain": [
              "<Figure size 432x288 with 0 Axes>"
            ]
          },
          "metadata": {
            "tags": []
          }
        }
      ]
    },
    {
      "cell_type": "markdown",
      "metadata": {
        "id": "eNZIjQbfbjKD"
      },
      "source": [
        "#### Pipeline complète d'utilisation du RNN"
      ]
    },
    {
      "cell_type": "code",
      "metadata": {
        "id": "jVqvncQUoPh5"
      },
      "source": [
        "from tensorflow import keras\r\n",
        "trained_model = tf.keras.Sequential([\r\n",
        "        tf.keras.layers.Embedding(vocab_size+1, embedding_dim, input_length=max_length, weights=[embeddings_matrix], trainable=False), # Couche d'entrée chargée avec les poids de GLoVe\r\n",
        "        tf.keras.layers.Dropout(0.5),\r\n",
        "        tf.keras.layers.Bidirectional(LSTM(units=64, return_sequences=True)),\r\n",
        "        tf.keras.layers.Bidirectional(LSTM(units=128)),\r\n",
        "        tf.keras.layers.Dense(64, activation='relu', kernel_regularizer=regularizers.l2(0.01)),\r\n",
        "        tf.keras.layers.Dense(1, activation='sigmoid')\r\n",
        "    ])\r\n",
        "trained_model.load_weights('/content/drive/MyDrive/Twitter_Dataset/model.h5')\r\n",
        "rnn_tokenizer = load('/content/drive/MyDrive/Twitter_Dataset/RNNTokenizer.joblib')"
      ],
      "execution_count": 271,
      "outputs": []
    },
    {
      "cell_type": "code",
      "metadata": {
        "id": "EDh5KsXa5F_e"
      },
      "source": [
        "max_length = 20        # Taille maximale d'un tweet\r\n",
        "trunc_type='post'      # Tronque le tweet s'il est plus long que max_length\r\n",
        "padding_type='post'\r\n",
        "\r\n",
        "def rnn_lstm_pipeline_from_tweets(subject :str):\r\n",
        "  raw_tweet = get_random_tweet(subject)\r\n",
        "  print(\"Raw Tweet : \" + raw_tweet)\r\n",
        "  cleaned_tweet = prepare_string(raw_tweet)\r\n",
        "  print(\"Processed Tweet : \" + cleaned_tweet)\r\n",
        "  word_vector = rnn_tokenizer.texts_to_sequences([cleaned_tweet])\r\n",
        "  word_vector = pad_sequences([word_vector], maxlen=max_length, padding=padding_type, truncating=trunc_type)\r\n",
        "  return bool(trained_model.predict(word_vector.reshape(1,-1))[0][0])\r\n",
        "\r\n",
        "def rnn_lstm_pipeline_from_yelp():\r\n",
        "  raw_review = get_random_review()\r\n",
        "  print(\"Raw Review : \" + raw_review)\r\n",
        "  cleaned_review = prepare_string(raw_review)\r\n",
        "  print(\"Processed Review : \" + cleaned_review)\r\n",
        "  word_vector = rnn_tokenizer.texts_to_sequences([cleaned_review])\r\n",
        "  word_vector = pad_sequences([word_vector], maxlen=max_length, padding=padding_type, truncating=trunc_type)\r\n",
        "\r\n",
        "  return bool(trained_model.predict(word_vector.reshape(1,-1))[0][0])\r\n",
        "\r\n"
      ],
      "execution_count": 290,
      "outputs": []
    },
    {
      "cell_type": "code",
      "metadata": {
        "colab": {
          "base_uri": "https://localhost:8080/"
        },
        "id": "G7xKPhIYijdQ",
        "outputId": "d23ba6d3-abe9-48f5-ff09-c4430758736f"
      },
      "source": [
        "rnn_lstm_pipeline_from_yelp()"
      ],
      "execution_count": 291,
      "outputs": [
        {
          "output_type": "stream",
          "text": [
            "Raw Review : I love buying books here! One of my favorite things about this store is that sometimes you can find copies of books signed by the author.\n",
            "Processed Review : love buying books one favorite things store sometimes find copies books signed author\n"
          ],
          "name": "stdout"
        },
        {
          "output_type": "execute_result",
          "data": {
            "text/plain": [
              "True"
            ]
          },
          "metadata": {
            "tags": []
          },
          "execution_count": 291
        }
      ]
    },
    {
      "cell_type": "code",
      "metadata": {
        "colab": {
          "base_uri": "https://localhost:8080/"
        },
        "id": "LrOKWh1Akmhc",
        "outputId": "2ff7646d-2f2c-4b9e-d98e-156e9499cf8b"
      },
      "source": [
        "rnn_lstm_pipeline_from_tweets(\"bookstore\")"
      ],
      "execution_count": 292,
      "outputs": [
        {
          "output_type": "stream",
          "text": [
            "Raw Tweet : RT @CentristStacy: White liberals going to the bookstore to pick up Robin DiAngelo's latest https://t.co/f0VZJqlR4d\n",
            "Processed Tweet : white liberals going bookstore pick robin diangelos latest\n"
          ],
          "name": "stdout"
        },
        {
          "output_type": "execute_result",
          "data": {
            "text/plain": [
              "True"
            ]
          },
          "metadata": {
            "tags": []
          },
          "execution_count": 292
        }
      ]
    },
    {
      "cell_type": "markdown",
      "metadata": {
        "id": "6m6_ySUJloAE"
      },
      "source": [
        "## Conclusion\r\n",
        "\r\n",
        "On observe que les deux modèles d'analyse de sentiment fonctionnent comme prévu, avec des niveaux de précision comparables. La précision des deux modèles pourrait être améliorée grâce à des temps d'entraînement plus long sur des jeux de données adaptés à l'utilisation voulue."
      ]
    },
    {
      "cell_type": "code",
      "metadata": {
        "id": "vHbGhAWQmDmh"
      },
      "source": [
        ""
      ],
      "execution_count": null,
      "outputs": []
    }
  ]
}