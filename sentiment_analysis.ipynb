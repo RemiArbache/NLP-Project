{
  "nbformat": 4,
  "nbformat_minor": 0,
  "metadata": {
    "colab": {
      "name": "sentiment-analysis.ipynb",
      "provenance": [],
      "collapsed_sections": [],
      "authorship_tag": "ABX9TyM7yXIFQsih4Vf111QuNhQt",
      "include_colab_link": true
    },
    "kernelspec": {
      "name": "python3",
      "display_name": "Python 3"
    }
  },
  "cells": [
    {
      "cell_type": "markdown",
      "metadata": {
        "id": "view-in-github",
        "colab_type": "text"
      },
      "source": [
        "<a href=\"https://colab.research.google.com/github/RemiArbache/NLP-Project/blob/main/sentiment_analysis.ipynb\" target=\"_parent\"><img src=\"https://colab.research.google.com/assets/colab-badge.svg\" alt=\"Open In Colab\"/></a>"
      ]
    },
    {
      "cell_type": "markdown",
      "metadata": {
        "id": "jB7ONmrO1Dcb"
      },
      "source": [
        "# Sentiment Analysis \r\n"
      ]
    },
    {
      "cell_type": "markdown",
      "metadata": {
        "id": "M9jMtnbz7HJn"
      },
      "source": [
        "## Imports du projet et des librairies "
      ]
    },
    {
      "cell_type": "code",
      "metadata": {
        "colab": {
          "base_uri": "https://localhost:8080/"
        },
        "id": "WKVht86NwLlv",
        "outputId": "82de38d8-d5c5-48ae-a61e-85bf140d7ffc"
      },
      "source": [
        "from google.colab import drive\r\n",
        "drive.mount('/content/gdrive/', force_remount=True)"
      ],
      "execution_count": 29,
      "outputs": [
        {
          "output_type": "stream",
          "text": [
            "Mounted at /content/gdrive/\n"
          ],
          "name": "stdout"
        }
      ]
    },
    {
      "cell_type": "code",
      "metadata": {
        "id": "v5_eC1ru1K4s"
      },
      "source": [
        "from time import time\r\n",
        "import numpy as np\r\n",
        "import pandas as pd\r\n",
        "import tensorflow as tf\r\n",
        "\r\n",
        "# Import Regex to clean up tweets\r\n",
        "import re\r\n",
        "\r\n",
        "import re, nltk, string\r\n",
        "from nltk.corpus import stopwords\r\n",
        "from nltk.tokenize import TweetTokenizer\r\n",
        "\r\n",
        "from tensorflow.keras.preprocessing.sequence import pad_sequences\r\n",
        "from tensorflow.keras.layers import Embedding, LSTM, Dense, Dropout, Bidirectional\r\n",
        "from tensorflow.keras.preprocessing.text import Tokenizer\r\n",
        "from tensorflow.keras.models import Sequential\r\n",
        "from tensorflow.keras.optimizers import Adam\r\n",
        "from tensorflow.keras import regularizers"
      ],
      "execution_count": 30,
      "outputs": []
    },
    {
      "cell_type": "markdown",
      "metadata": {
        "id": "lwVHMaHYxDTT"
      },
      "source": [
        "Veuillez importer le fichier du projet via le lien ci-dessous : \r\n",
        "\r\n",
        "https://drive.google.com/drive/folders/18Qkedfia8GFN4-GgpXKFN5-w6swJHgkb?usp=sharing"
      ]
    },
    {
      "cell_type": "code",
      "metadata": {
        "id": "BNYefqe3w1Hm"
      },
      "source": [
        "DF = pd.read_csv('gdrive/MyDrive/Twitter_Dataset/tweets.csv',encoding='latin',usecols=[0, 5], # to take only 2 useful column\r\n",
        "                 names=[\"label\",\"tweet\"])"
      ],
      "execution_count": 32,
      "outputs": []
    },
    {
      "cell_type": "code",
      "metadata": {
        "id": "hqB_3Dhxz_Yv"
      },
      "source": [
        "DF['label'].replace([4, 0],[1, 0], inplace=True) # Replace 0 and 4 by 0 and 1 to clarify"
      ],
      "execution_count": 33,
      "outputs": []
    },
    {
      "cell_type": "code",
      "metadata": {
        "colab": {
          "base_uri": "https://localhost:8080/",
          "height": 206
        },
        "id": "b1JnADpayYoX",
        "outputId": "ff374896-94db-4096-8ad3-31209274e25a"
      },
      "source": [
        "DF.head()"
      ],
      "execution_count": 34,
      "outputs": [
        {
          "output_type": "execute_result",
          "data": {
            "text/html": [
              "<div>\n",
              "<style scoped>\n",
              "    .dataframe tbody tr th:only-of-type {\n",
              "        vertical-align: middle;\n",
              "    }\n",
              "\n",
              "    .dataframe tbody tr th {\n",
              "        vertical-align: top;\n",
              "    }\n",
              "\n",
              "    .dataframe thead th {\n",
              "        text-align: right;\n",
              "    }\n",
              "</style>\n",
              "<table border=\"1\" class=\"dataframe\">\n",
              "  <thead>\n",
              "    <tr style=\"text-align: right;\">\n",
              "      <th></th>\n",
              "      <th>label</th>\n",
              "      <th>tweet</th>\n",
              "    </tr>\n",
              "  </thead>\n",
              "  <tbody>\n",
              "    <tr>\n",
              "      <th>0</th>\n",
              "      <td>0</td>\n",
              "      <td>@switchfoot http://twitpic.com/2y1zl - Awww, t...</td>\n",
              "    </tr>\n",
              "    <tr>\n",
              "      <th>1</th>\n",
              "      <td>0</td>\n",
              "      <td>is upset that he can't update his Facebook by ...</td>\n",
              "    </tr>\n",
              "    <tr>\n",
              "      <th>2</th>\n",
              "      <td>0</td>\n",
              "      <td>@Kenichan I dived many times for the ball. Man...</td>\n",
              "    </tr>\n",
              "    <tr>\n",
              "      <th>3</th>\n",
              "      <td>0</td>\n",
              "      <td>my whole body feels itchy and like its on fire</td>\n",
              "    </tr>\n",
              "    <tr>\n",
              "      <th>4</th>\n",
              "      <td>0</td>\n",
              "      <td>@nationwideclass no, it's not behaving at all....</td>\n",
              "    </tr>\n",
              "  </tbody>\n",
              "</table>\n",
              "</div>"
            ],
            "text/plain": [
              "   label                                              tweet\n",
              "0      0  @switchfoot http://twitpic.com/2y1zl - Awww, t...\n",
              "1      0  is upset that he can't update his Facebook by ...\n",
              "2      0  @Kenichan I dived many times for the ball. Man...\n",
              "3      0    my whole body feels itchy and like its on fire \n",
              "4      0  @nationwideclass no, it's not behaving at all...."
            ]
          },
          "metadata": {
            "tags": []
          },
          "execution_count": 34
        }
      ]
    },
    {
      "cell_type": "markdown",
      "metadata": {
        "id": "AY-r3wiq3Pqe"
      },
      "source": [
        "On peut voir que les tweets contiennent des mentions, des urls, etc. qui ne sont pas utiles au modèle de langage. Il faut donc nettoyer leur contenu."
      ]
    },
    {
      "cell_type": "code",
      "metadata": {
        "colab": {
          "base_uri": "https://localhost:8080/"
        },
        "id": "fnzzklWW3Iq6",
        "outputId": "4d1ad881-963a-4cb1-dd76-2a0f9e7ccc90"
      },
      "source": [
        "tokenizer = TweetTokenizer(strip_handles=True)\r\n",
        "nltk.download('stopwords')\r\n",
        "stop_words = nltk.corpus.stopwords.words('english')\r\n",
        "corpus = []"
      ],
      "execution_count": 41,
      "outputs": [
        {
          "output_type": "stream",
          "text": [
            "[nltk_data] Downloading package stopwords to /root/nltk_data...\n",
            "[nltk_data]   Package stopwords is already up-to-date!\n"
          ],
          "name": "stdout"
        }
      ]
    },
    {
      "cell_type": "markdown",
      "metadata": {
        "id": "Qx45o7nz6X2C"
      },
      "source": [
        "## Pré-Traitement"
      ]
    },
    {
      "cell_type": "markdown",
      "metadata": {
        "id": "feom1QFT4Kq6"
      },
      "source": [
        "### Nettoyage et Tokenization\r\n",
        "J'utilise la fonction clean trouvée sur Kaggle pour nettoyer les tweets.\r\n",
        "Les contractions sont séparées, les charactères spéciaux sont supprimés, ainsi que les URLs, les mentions, les mots trops courts, et les stopwords. \r\n",
        "\r\n",
        "Les tweets sont aussi transformés en Tokens grâce à la librairie ```nltk```.\r\n"
      ]
    },
    {
      "cell_type": "code",
      "metadata": {
        "id": "-A65-xor3uxu"
      },
      "source": [
        "def clean(tweet): \r\n",
        "            \r\n",
        "    # Contractions\r\n",
        "    tweet = re.sub(r\"he's\", \"he is\", tweet)\r\n",
        "    tweet = re.sub(r\"there's\", \"there is\", tweet)\r\n",
        "    tweet = re.sub(r\"We're\", \"We are\", tweet)\r\n",
        "    tweet = re.sub(r\"That's\", \"That is\", tweet)\r\n",
        "    tweet = re.sub(r\"won't\", \"will not\", tweet)\r\n",
        "    tweet = re.sub(r\"they're\", \"they are\", tweet)\r\n",
        "    tweet = re.sub(r\"Can't\", \"Cannot\", tweet)\r\n",
        "    tweet = re.sub(r\"wasn't\", \"was not\", tweet)\r\n",
        "    tweet = re.sub(r\"don\\x89Ûªt\", \"do not\", tweet)\r\n",
        "    tweet = re.sub(r\"aren't\", \"are not\", tweet)\r\n",
        "    tweet = re.sub(r\"isn't\", \"is not\", tweet)\r\n",
        "    tweet = re.sub(r\"What's\", \"What is\", tweet)\r\n",
        "    tweet = re.sub(r\"haven't\", \"have not\", tweet)\r\n",
        "    tweet = re.sub(r\"hasn't\", \"has not\", tweet)\r\n",
        "    tweet = re.sub(r\"There's\", \"There is\", tweet)\r\n",
        "    tweet = re.sub(r\"He's\", \"He is\", tweet)\r\n",
        "    tweet = re.sub(r\"It's\", \"It is\", tweet)\r\n",
        "    tweet = re.sub(r\"You're\", \"You are\", tweet)\r\n",
        "    tweet = re.sub(r\"I'M\", \"I am\", tweet)\r\n",
        "    tweet = re.sub(r\"shouldn't\", \"should not\", tweet)\r\n",
        "    tweet = re.sub(r\"wouldn't\", \"would not\", tweet)\r\n",
        "    tweet = re.sub(r\"i'm\", \"I am\", tweet)\r\n",
        "    tweet = re.sub(r\"I\\x89Ûªm\", \"I am\", tweet)\r\n",
        "    tweet = re.sub(r\"I'm\", \"I am\", tweet)\r\n",
        "    tweet = re.sub(r\"Isn't\", \"is not\", tweet)\r\n",
        "    tweet = re.sub(r\"Here's\", \"Here is\", tweet)\r\n",
        "    tweet = re.sub(r\"you've\", \"you have\", tweet)\r\n",
        "    tweet = re.sub(r\"you\\x89Ûªve\", \"you have\", tweet)\r\n",
        "    tweet = re.sub(r\"we're\", \"we are\", tweet)\r\n",
        "    tweet = re.sub(r\"what's\", \"what is\", tweet)\r\n",
        "    tweet = re.sub(r\"couldn't\", \"could not\", tweet)\r\n",
        "    tweet = re.sub(r\"we've\", \"we have\", tweet)\r\n",
        "    tweet = re.sub(r\"it\\x89Ûªs\", \"it is\", tweet)\r\n",
        "    tweet = re.sub(r\"doesn\\x89Ûªt\", \"does not\", tweet)\r\n",
        "    tweet = re.sub(r\"It\\x89Ûªs\", \"It is\", tweet)\r\n",
        "    tweet = re.sub(r\"Here\\x89Ûªs\", \"Here is\", tweet)\r\n",
        "    tweet = re.sub(r\"who's\", \"who is\", tweet)\r\n",
        "    tweet = re.sub(r\"I\\x89Ûªve\", \"I have\", tweet)\r\n",
        "    tweet = re.sub(r\"y'all\", \"you all\", tweet)\r\n",
        "    tweet = re.sub(r\"can\\x89Ûªt\", \"cannot\", tweet)\r\n",
        "    tweet = re.sub(r\"would've\", \"would have\", tweet)\r\n",
        "    tweet = re.sub(r\"it'll\", \"it will\", tweet)\r\n",
        "    tweet = re.sub(r\"we'll\", \"we will\", tweet)\r\n",
        "    tweet = re.sub(r\"wouldn\\x89Ûªt\", \"would not\", tweet)\r\n",
        "    tweet = re.sub(r\"We've\", \"We have\", tweet)\r\n",
        "    tweet = re.sub(r\"he'll\", \"he will\", tweet)\r\n",
        "    tweet = re.sub(r\"Y'all\", \"You all\", tweet)\r\n",
        "    tweet = re.sub(r\"Weren't\", \"Were not\", tweet)\r\n",
        "    tweet = re.sub(r\"Didn't\", \"Did not\", tweet)\r\n",
        "    tweet = re.sub(r\"they'll\", \"they will\", tweet)\r\n",
        "    tweet = re.sub(r\"they'd\", \"they would\", tweet)\r\n",
        "    tweet = re.sub(r\"DON'T\", \"DO NOT\", tweet)\r\n",
        "    tweet = re.sub(r\"That\\x89Ûªs\", \"That is\", tweet)\r\n",
        "    tweet = re.sub(r\"they've\", \"they have\", tweet)\r\n",
        "    tweet = re.sub(r\"i'd\", \"I would\", tweet)\r\n",
        "    tweet = re.sub(r\"should've\", \"should have\", tweet)\r\n",
        "    tweet = re.sub(r\"You\\x89Ûªre\", \"You are\", tweet)\r\n",
        "    tweet = re.sub(r\"where's\", \"where is\", tweet)\r\n",
        "    tweet = re.sub(r\"Don\\x89Ûªt\", \"Do not\", tweet)\r\n",
        "    tweet = re.sub(r\"we'd\", \"we would\", tweet)\r\n",
        "    tweet = re.sub(r\"i'll\", \"I will\", tweet)\r\n",
        "    tweet = re.sub(r\"weren't\", \"were not\", tweet)\r\n",
        "    tweet = re.sub(r\"They're\", \"They are\", tweet)\r\n",
        "    tweet = re.sub(r\"Can\\x89Ûªt\", \"Cannot\", tweet)\r\n",
        "    tweet = re.sub(r\"you\\x89Ûªll\", \"you will\", tweet)\r\n",
        "    tweet = re.sub(r\"I\\x89Ûªd\", \"I would\", tweet)\r\n",
        "    tweet = re.sub(r\"let's\", \"let us\", tweet)\r\n",
        "    tweet = re.sub(r\"it's\", \"it is\", tweet)\r\n",
        "    tweet = re.sub(r\"can't\", \"cannot\", tweet)\r\n",
        "    tweet = re.sub(r\"don't\", \"do not\", tweet)\r\n",
        "    tweet = re.sub(r\"you're\", \"you are\", tweet)\r\n",
        "    tweet = re.sub(r\"i've\", \"I have\", tweet)\r\n",
        "    tweet = re.sub(r\"that's\", \"that is\", tweet)\r\n",
        "    tweet = re.sub(r\"i'll\", \"I will\", tweet)\r\n",
        "    tweet = re.sub(r\"doesn't\", \"does not\", tweet)\r\n",
        "    tweet = re.sub(r\"i'd\", \"I would\", tweet)\r\n",
        "    tweet = re.sub(r\"didn't\", \"did not\", tweet)\r\n",
        "    tweet = re.sub(r\"ain't\", \"am not\", tweet)\r\n",
        "    tweet = re.sub(r\"you'll\", \"you will\", tweet)\r\n",
        "    tweet = re.sub(r\"I've\", \"I have\", tweet)\r\n",
        "    tweet = re.sub(r\"Don't\", \"do not\", tweet)\r\n",
        "    tweet = re.sub(r\"I'll\", \"I will\", tweet)\r\n",
        "    tweet = re.sub(r\"I'd\", \"I would\", tweet)\r\n",
        "    tweet = re.sub(r\"Let's\", \"Let us\", tweet)\r\n",
        "    tweet = re.sub(r\"you'd\", \"You would\", tweet)\r\n",
        "    tweet = re.sub(r\"It's\", \"It is\", tweet)\r\n",
        "    tweet = re.sub(r\"Ain't\", \"am not\", tweet)\r\n",
        "    tweet = re.sub(r\"Haven't\", \"Have not\", tweet)\r\n",
        "    tweet = re.sub(r\"Could've\", \"Could have\", tweet)\r\n",
        "    tweet = re.sub(r\"youve\", \"you have\", tweet)  \r\n",
        "    tweet = re.sub(r\"donå«t\", \"do not\", tweet)  \r\n",
        "    \r\n",
        "    tweet = re.sub(r\"some1\", \"someone\", tweet)\r\n",
        "    tweet = re.sub(r\"yrs\", \"years\", tweet)\r\n",
        "    tweet = re.sub(r\"hrs\", \"hours\", tweet)\r\n",
        "    tweet = re.sub(r\"2morow|2moro\", \"tomorrow\", tweet)\r\n",
        "    tweet = re.sub(r\"2day\", \"today\", tweet)\r\n",
        "    tweet = re.sub(r\"4got|4gotten\", \"forget\", tweet)\r\n",
        "    tweet = re.sub(r\"b-day|bday\", \"b-day\", tweet)\r\n",
        "    tweet = re.sub(r\"mother's\", \"mother\", tweet)\r\n",
        "    tweet = re.sub(r\"mom's\", \"mom\", tweet)\r\n",
        "    tweet = re.sub(r\"dad's\", \"dad\", tweet)\r\n",
        "    tweet = re.sub(r\"hahah|hahaha|hahahaha\", \"haha\", tweet)\r\n",
        "    tweet = re.sub(r\"lmao|lolz|rofl\", \"lol\", tweet)\r\n",
        "    tweet = re.sub(r\"thanx|thnx\", \"thanks\", tweet)\r\n",
        "    tweet = re.sub(r\"goood\", \"good\", tweet)\r\n",
        "    tweet = re.sub(r\"some1\", \"someone\", tweet)\r\n",
        "    tweet = re.sub(r\"some1\", \"someone\", tweet)\r\n",
        "    # Character entity references\r\n",
        "    tweet = re.sub(r\"&gt;\", \">\", tweet)\r\n",
        "    tweet = re.sub(r\"&lt;\", \"<\", tweet)\r\n",
        "    tweet = re.sub(r\"&amp;\", \"&\", tweet)\r\n",
        "    # Typos, slang and informal abbreviations\r\n",
        "    tweet = re.sub(r\"w/e\", \"whatever\", tweet)\r\n",
        "    tweet = re.sub(r\"w/\", \"with\", tweet)\r\n",
        "    tweet = re.sub(r\"<3\", \"love\", tweet)\r\n",
        "    # Urls\r\n",
        "    tweet = re.sub(r\"http\\S+\", \"\", tweet)\r\n",
        "    # Numbers\r\n",
        "    tweet = re.sub(r'[0-9]', '', tweet)\r\n",
        "    # Eliminating the mentions\r\n",
        "    tweet = re.sub(\"(@[A-Za-z0-9_]+)\",\"\", tweet)\r\n",
        "    # Remove punctuation and special chars (keep '!')\r\n",
        "    for p in string.punctuation.replace('!', ''):\r\n",
        "        tweet = tweet.replace(p, '')\r\n",
        "        \r\n",
        "    # ... and ..\r\n",
        "    tweet = tweet.replace('...', ' ... ')\r\n",
        "    if '...' not in tweet:\r\n",
        "        tweet = tweet.replace('..', ' ... ')\r\n",
        "        \r\n",
        "    # Tokenize\r\n",
        "    tweet_words = tokenizer.tokenize(tweet)\r\n",
        "    \r\n",
        "    # Eliminating the word if its length is less than 3\r\n",
        "    tweet = [w for w in tweet_words if len(w)>2]\r\n",
        "    \r\n",
        "    # remove stopwords\r\n",
        "    tweet = [w.lower() for w in tweet_words if not w in stop_words]  \r\n",
        "    \r\n",
        "    corpus.append(tweet)\r\n",
        "    \r\n",
        "    # join back\r\n",
        "    tweet = ' '.join(tweet)\r\n",
        "        \r\n",
        "        \r\n",
        "    return tweet"
      ],
      "execution_count": 42,
      "outputs": []
    },
    {
      "cell_type": "markdown",
      "metadata": {
        "id": "Ra5JF2wM47He"
      },
      "source": [
        "Les abbréviations seront remplacées par leur homologue complet grâce à ce dictionnaire d'abbréviations et à la fonction ```convert_abbrev_in_text``` associée"
      ]
    },
    {
      "cell_type": "code",
      "metadata": {
        "id": "wXOuCl754r9x"
      },
      "source": [
        "abbreviations = {\r\n",
        "    \"$\" : \" dollar \",\r\n",
        "    \"€\" : \" euro \",\r\n",
        "    \"4ao\" : \"for adults only\",\r\n",
        "    \"a.m\" : \"before midday\",\r\n",
        "    \"a3\" : \"anytime anywhere anyplace\",\r\n",
        "    \"aamof\" : \"as a matter of fact\",\r\n",
        "    \"acct\" : \"account\",\r\n",
        "    \"adih\" : \"another day in hell\",\r\n",
        "    \"afaic\" : \"as far as i am concerned\",\r\n",
        "    \"afaict\" : \"as far as i can tell\",\r\n",
        "    \"afaik\" : \"as far as i know\",\r\n",
        "    \"afair\" : \"as far as i remember\",\r\n",
        "    \"afk\" : \"away from keyboard\",\r\n",
        "    \"app\" : \"application\",\r\n",
        "    \"approx\" : \"approximately\",\r\n",
        "    \"apps\" : \"applications\",\r\n",
        "    \"asap\" : \"as soon as possible\",\r\n",
        "    \"asl\" : \"age, sex, location\",\r\n",
        "    \"atk\" : \"at the keyboard\",\r\n",
        "    \"ave.\" : \"avenue\",\r\n",
        "    \"aymm\" : \"are you my mother\",\r\n",
        "    \"ayor\" : \"at your own risk\", \r\n",
        "    \"b&b\" : \"bed and breakfast\",\r\n",
        "    \"b+b\" : \"bed and breakfast\",\r\n",
        "    \"b.c\" : \"before christ\",\r\n",
        "    \"b2b\" : \"business to business\",\r\n",
        "    \"b2c\" : \"business to customer\",\r\n",
        "    \"b4\" : \"before\",\r\n",
        "    \"b4n\" : \"bye for now\",\r\n",
        "    \"b@u\" : \"back at you\",\r\n",
        "    \"bae\" : \"before anyone else\",\r\n",
        "    \"bak\" : \"back at keyboard\",\r\n",
        "    \"bbbg\" : \"bye bye be good\",\r\n",
        "    \"bbc\" : \"british broadcasting corporation\",\r\n",
        "    \"bbias\" : \"be back in a second\",\r\n",
        "    \"bbl\" : \"be back later\",\r\n",
        "    \"bbs\" : \"be back soon\",\r\n",
        "    \"be4\" : \"before\",\r\n",
        "    \"bfn\" : \"bye for now\",\r\n",
        "    \"blvd\" : \"boulevard\",\r\n",
        "    \"bout\" : \"about\",\r\n",
        "    \"brb\" : \"be right back\",\r\n",
        "    \"bros\" : \"brothers\",\r\n",
        "    \"brt\" : \"be right there\",\r\n",
        "    \"bsaaw\" : \"big smile and a wink\",\r\n",
        "    \"btw\" : \"by the way\",\r\n",
        "    \"bwl\" : \"bursting with laughter\",\r\n",
        "    \"c/o\" : \"care of\",\r\n",
        "    \"cet\" : \"central european time\",\r\n",
        "    \"cf\" : \"compare\",\r\n",
        "    \"cia\" : \"central intelligence agency\",\r\n",
        "    \"csl\" : \"can not stop laughing\",\r\n",
        "    \"cu\" : \"see you\",\r\n",
        "    \"cul8r\" : \"see you later\",\r\n",
        "    \"cv\" : \"curriculum vitae\",\r\n",
        "    \"cwot\" : \"complete waste of time\",\r\n",
        "    \"cya\" : \"see you\",\r\n",
        "    \"cyt\" : \"see you tomorrow\",\r\n",
        "    \"dae\" : \"does anyone else\",\r\n",
        "    \"dbmib\" : \"do not bother me i am busy\",\r\n",
        "    \"diy\" : \"do it yourself\",\r\n",
        "    \"dm\" : \"direct message\",\r\n",
        "    \"dwh\" : \"during work hours\",\r\n",
        "    \"e123\" : \"easy as one two three\",\r\n",
        "    \"eet\" : \"eastern european time\",\r\n",
        "    \"eg\" : \"example\",\r\n",
        "    \"embm\" : \"early morning business meeting\",\r\n",
        "    \"encl\" : \"enclosed\",\r\n",
        "    \"encl.\" : \"enclosed\",\r\n",
        "    \"etc\" : \"and so on\",\r\n",
        "    \"faq\" : \"frequently asked questions\",\r\n",
        "    \"fawc\" : \"for anyone who cares\",\r\n",
        "    \"fb\" : \"facebook\",\r\n",
        "    \"fc\" : \"fingers crossed\",\r\n",
        "    \"fig\" : \"figure\",\r\n",
        "    \"fimh\" : \"forever in my heart\", \r\n",
        "    \"ft.\" : \"feet\",\r\n",
        "    \"ft\" : \"featuring\",\r\n",
        "    \"ftl\" : \"for the loss\",\r\n",
        "    \"ftw\" : \"for the win\",\r\n",
        "    \"fwiw\" : \"for what it is worth\",\r\n",
        "    \"fyi\" : \"for your information\",\r\n",
        "    \"g9\" : \"genius\",\r\n",
        "    \"gahoy\" : \"get a hold of yourself\",\r\n",
        "    \"gal\" : \"get a life\",\r\n",
        "    \"gcse\" : \"general certificate of secondary education\",\r\n",
        "    \"gfn\" : \"gone for now\",\r\n",
        "    \"gg\" : \"good game\",\r\n",
        "    \"gl\" : \"good luck\",\r\n",
        "    \"glhf\" : \"good luck have fun\",\r\n",
        "    \"gmt\" : \"greenwich mean time\",\r\n",
        "    \"gmta\" : \"great minds think alike\",\r\n",
        "    \"gn\" : \"good night\",\r\n",
        "    \"g.o.a.t\" : \"greatest of all time\",\r\n",
        "    \"goat\" : \"greatest of all time\",\r\n",
        "    \"goi\" : \"get over it\",\r\n",
        "    \"gps\" : \"global positioning system\",\r\n",
        "    \"gr8\" : \"great\",\r\n",
        "    \"gratz\" : \"congratulations\",\r\n",
        "    \"gyal\" : \"girl\",\r\n",
        "    \"h&c\" : \"hot and cold\",\r\n",
        "    \"hp\" : \"horsepower\",\r\n",
        "    \"hr\" : \"hour\",\r\n",
        "    \"hrh\" : \"his royal highness\",\r\n",
        "    \"ht\" : \"height\",\r\n",
        "    \"ibrb\" : \"i will be right back\",\r\n",
        "    \"ic\" : \"i see\",\r\n",
        "    \"icq\" : \"i seek you\",\r\n",
        "    \"icymi\" : \"in case you missed it\",\r\n",
        "    \"idc\" : \"i do not care\",\r\n",
        "    \"idgadf\" : \"i do not give a damn fuck\",\r\n",
        "    \"idgaf\" : \"i do not give a fuck\",\r\n",
        "    \"idk\" : \"i do not know\",\r\n",
        "    \"ie\" : \"that is\",\r\n",
        "    \"i.e\" : \"that is\",\r\n",
        "    \"ifyp\" : \"i feel your pain\",\r\n",
        "    \"IG\" : \"instagram\",\r\n",
        "    \"iirc\" : \"if i remember correctly\",\r\n",
        "    \"ilu\" : \"i love you\",\r\n",
        "    \"ily\" : \"i love you\",\r\n",
        "    \"imho\" : \"in my humble opinion\",\r\n",
        "    \"imo\" : \"in my opinion\",\r\n",
        "    \"imu\" : \"i miss you\",\r\n",
        "    \"iow\" : \"in other words\",\r\n",
        "    \"irl\" : \"in real life\",\r\n",
        "    \"j4f\" : \"just for fun\",\r\n",
        "    \"jic\" : \"just in case\",\r\n",
        "    \"jk\" : \"just kidding\",\r\n",
        "    \"jsyk\" : \"just so you know\",\r\n",
        "    \"l8r\" : \"later\",\r\n",
        "    \"lb\" : \"pound\",\r\n",
        "    \"lbs\" : \"pounds\",\r\n",
        "    \"ldr\" : \"long distance relationship\",\r\n",
        "    \"lmao\" : \"laugh my ass off\",\r\n",
        "    \"lmfao\" : \"laugh my fucking ass off\",\r\n",
        "    \"lol\" : \"laughing out loud\",\r\n",
        "    \"ltd\" : \"limited\",\r\n",
        "    \"ltns\" : \"long time no see\",\r\n",
        "    \"m8\" : \"mate\",\r\n",
        "    \"mf\" : \"motherfucker\",\r\n",
        "    \"mfs\" : \"motherfuckers\",\r\n",
        "    \"mfw\" : \"my face when\",\r\n",
        "    \"mofo\" : \"motherfucker\",\r\n",
        "    \"mph\" : \"miles per hour\",\r\n",
        "    \"mr\" : \"mister\",\r\n",
        "    \"mrw\" : \"my reaction when\",\r\n",
        "    \"ms\" : \"miss\",\r\n",
        "    \"mte\" : \"my thoughts exactly\",\r\n",
        "    \"nagi\" : \"not a good idea\",\r\n",
        "    \"nbc\" : \"national broadcasting company\",\r\n",
        "    \"nbd\" : \"not big deal\",\r\n",
        "    \"nfs\" : \"not for sale\",\r\n",
        "    \"ngl\" : \"not going to lie\",\r\n",
        "    \"nhs\" : \"national health service\",\r\n",
        "    \"nrn\" : \"no reply necessary\",\r\n",
        "    \"nsfl\" : \"not safe for life\",\r\n",
        "    \"nsfw\" : \"not safe for work\",\r\n",
        "    \"nth\" : \"nice to have\",\r\n",
        "    \"nvr\" : \"never\",\r\n",
        "    \"nyc\" : \"new york city\",\r\n",
        "    \"oc\" : \"original content\",\r\n",
        "    \"og\" : \"original\",\r\n",
        "    \"ohp\" : \"overhead projector\",\r\n",
        "    \"oic\" : \"oh i see\",\r\n",
        "    \"omdb\" : \"over my dead body\",\r\n",
        "    \"omg\" : \"oh my god\",\r\n",
        "    \"omw\" : \"on my way\",\r\n",
        "    \"p.a\" : \"per annum\",\r\n",
        "    \"p.m\" : \"after midday\",\r\n",
        "    \"pm\" : \"prime minister\",\r\n",
        "    \"poc\" : \"people of color\",\r\n",
        "    \"pov\" : \"point of view\",\r\n",
        "    \"pp\" : \"pages\",\r\n",
        "    \"ppl\" : \"people\",\r\n",
        "    \"prw\" : \"parents are watching\",\r\n",
        "    \"ps\" : \"postscript\",\r\n",
        "    \"pt\" : \"point\",\r\n",
        "    \"ptb\" : \"please text back\",\r\n",
        "    \"pto\" : \"please turn over\",\r\n",
        "    \"qpsa\" : \"what happens\", \r\n",
        "    \"ratchet\" : \"rude\",\r\n",
        "    \"rbtl\" : \"read between the lines\",\r\n",
        "    \"rlrt\" : \"real life retweet\", \r\n",
        "    \"rofl\" : \"rolling on the floor laughing\",\r\n",
        "    \"roflol\" : \"rolling on the floor laughing out loud\",\r\n",
        "    \"rotflmao\" : \"rolling on the floor laughing my ass off\",\r\n",
        "    \"rt\" : \"retweet\",\r\n",
        "    \"ruok\" : \"are you ok\",\r\n",
        "    \"sfw\" : \"safe for work\",\r\n",
        "     \"sk8\" : \"skate\",\r\n",
        "    \"smh\" : \"shake my head\",\r\n",
        "    \"sq\" : \"square\",\r\n",
        "    \"srsly\" : \"seriously\", \r\n",
        "    \"ssdd\" : \"same stuff different day\",\r\n",
        "    \"tbh\" : \"to be honest\",\r\n",
        "    \"tbs\" : \"tablespooful\",\r\n",
        "    \"tbsp\" : \"tablespooful\",\r\n",
        "    \"tfw\" : \"that feeling when\",\r\n",
        "    \"thks\" : \"thank you\",\r\n",
        "    \"tho\" : \"though\",\r\n",
        "    \"thx\" : \"thank you\",\r\n",
        "    \"tia\" : \"thanks in advance\",\r\n",
        "    \"til\" : \"today i learned\",\r\n",
        "    \"tl;dr\" : \"too long i did not read\",\r\n",
        "    \"tldr\" : \"too long i did not read\",\r\n",
        "    \"tmb\" : \"tweet me back\",\r\n",
        "    \"tntl\" : \"trying not to laugh\",\r\n",
        "    \"ttyl\" : \"talk to you later\",\r\n",
        "    \"u\" : \"you\",\r\n",
        "    \"u2\" : \"you too\",\r\n",
        "    \"u4e\" : \"yours for ever\",\r\n",
        "    \"utc\" : \"coordinated universal time\",\r\n",
        "    \"w/\" : \"with\",\r\n",
        "    \"w/o\" : \"without\",\r\n",
        "    \"w8\" : \"wait\",\r\n",
        "    \"wassup\" : \"what is up\",\r\n",
        "    \"wb\" : \"welcome back\",\r\n",
        "    \"wtf\" : \"what the fuck\",\r\n",
        "    \"wtg\" : \"way to go\",\r\n",
        "    \"wtpa\" : \"where the party at\",\r\n",
        "    \"wuf\" : \"where are you from\",\r\n",
        "    \"wuzup\" : \"what is up\",\r\n",
        "    \"wywh\" : \"wish you were here\",\r\n",
        "    \"yd\" : \"yard\",\r\n",
        "    \"ygtr\" : \"you got that right\",\r\n",
        "    \"ynk\" : \"you never know\",\r\n",
        "    \"zzz\" : \"sleeping bored and tired\"\r\n",
        "}\r\n",
        "\r\n",
        "def convert_abbrev_in_text(tweet):\r\n",
        "    t=[]\r\n",
        "    words=tweet.split()\r\n",
        "    t = [abbreviations[w.lower()] if w.lower() in abbreviations.keys() else w for w in words]\r\n",
        "    return ' '.join(t) "
      ],
      "execution_count": 43,
      "outputs": []
    },
    {
      "cell_type": "markdown",
      "metadata": {
        "id": "jK6QMnZt7dT2"
      },
      "source": [
        "Cette étape peut prendre quelques minutes."
      ]
    },
    {
      "cell_type": "code",
      "metadata": {
        "colab": {
          "base_uri": "https://localhost:8080/"
        },
        "id": "ZLRIsX875MuX",
        "outputId": "b2684b37-848b-4881-db37-61a8dee1e005"
      },
      "source": [
        "%%time\r\n",
        "DF['tweet'] = DF['tweet'].apply(lambda s : clean(s))\r\n",
        "DF['tweet'] = DF['tweet'].apply(lambda s : convert_abbrev_in_text(s))"
      ],
      "execution_count": 44,
      "outputs": [
        {
          "output_type": "stream",
          "text": [
            "CPU times: user 4min 49s, sys: 1.42 s, total: 4min 50s\n",
            "Wall time: 4min 51s\n"
          ],
          "name": "stdout"
        }
      ]
    },
    {
      "cell_type": "code",
      "metadata": {
        "colab": {
          "base_uri": "https://localhost:8080/",
          "height": 520
        },
        "id": "Rqmx0YFJ5ee-",
        "outputId": "3f910f78-8802-41b4-9f2c-17a4d8d6574d"
      },
      "source": [
        "DF.head(15)"
      ],
      "execution_count": 49,
      "outputs": [
        {
          "output_type": "execute_result",
          "data": {
            "text/html": [
              "<div>\n",
              "<style scoped>\n",
              "    .dataframe tbody tr th:only-of-type {\n",
              "        vertical-align: middle;\n",
              "    }\n",
              "\n",
              "    .dataframe tbody tr th {\n",
              "        vertical-align: top;\n",
              "    }\n",
              "\n",
              "    .dataframe thead th {\n",
              "        text-align: right;\n",
              "    }\n",
              "</style>\n",
              "<table border=\"1\" class=\"dataframe\">\n",
              "  <thead>\n",
              "    <tr style=\"text-align: right;\">\n",
              "      <th></th>\n",
              "      <th>label</th>\n",
              "      <th>tweet</th>\n",
              "    </tr>\n",
              "  </thead>\n",
              "  <tbody>\n",
              "    <tr>\n",
              "      <th>0</th>\n",
              "      <td>0</td>\n",
              "      <td>awww bummer you shoulda got david carr third d...</td>\n",
              "    </tr>\n",
              "    <tr>\n",
              "      <th>1</th>\n",
              "      <td>0</td>\n",
              "      <td>upset cannot update facebook texting might cry...</td>\n",
              "    </tr>\n",
              "    <tr>\n",
              "      <th>2</th>\n",
              "      <td>0</td>\n",
              "      <td>i dived many times ball managed save the rest ...</td>\n",
              "    </tr>\n",
              "    <tr>\n",
              "      <th>3</th>\n",
              "      <td>0</td>\n",
              "      <td>whole body feels itchy like fire</td>\n",
              "    </tr>\n",
              "    <tr>\n",
              "      <th>4</th>\n",
              "      <td>0</td>\n",
              "      <td>behaving i mad i cannot see</td>\n",
              "    </tr>\n",
              "    <tr>\n",
              "      <th>5</th>\n",
              "      <td>0</td>\n",
              "      <td>whole crew</td>\n",
              "    </tr>\n",
              "    <tr>\n",
              "      <th>6</th>\n",
              "      <td>0</td>\n",
              "      <td>need hug</td>\n",
              "    </tr>\n",
              "    <tr>\n",
              "      <th>7</th>\n",
              "      <td>0</td>\n",
              "      <td>hey long time see ! yes rains bit bit laughing...</td>\n",
              "    </tr>\n",
              "    <tr>\n",
              "      <th>8</th>\n",
              "      <td>0</td>\n",
              "      <td>nope</td>\n",
              "    </tr>\n",
              "    <tr>\n",
              "      <th>9</th>\n",
              "      <td>0</td>\n",
              "      <td>que muera</td>\n",
              "    </tr>\n",
              "    <tr>\n",
              "      <th>10</th>\n",
              "      <td>0</td>\n",
              "      <td>spring break plain city snowing</td>\n",
              "    </tr>\n",
              "    <tr>\n",
              "      <th>11</th>\n",
              "      <td>0</td>\n",
              "      <td>i repierced ears</td>\n",
              "    </tr>\n",
              "    <tr>\n",
              "      <th>12</th>\n",
              "      <td>0</td>\n",
              "      <td>i could bear watch and i thought ua loss embar...</td>\n",
              "    </tr>\n",
              "    <tr>\n",
              "      <th>13</th>\n",
              "      <td>0</td>\n",
              "      <td>it counts i do not know i either never talk an...</td>\n",
              "    </tr>\n",
              "    <tr>\n",
              "      <th>14</th>\n",
              "      <td>0</td>\n",
              "      <td>would first gun really though zac snyders douc...</td>\n",
              "    </tr>\n",
              "  </tbody>\n",
              "</table>\n",
              "</div>"
            ],
            "text/plain": [
              "    label                                              tweet\n",
              "0       0  awww bummer you shoulda got david carr third d...\n",
              "1       0  upset cannot update facebook texting might cry...\n",
              "2       0  i dived many times ball managed save the rest ...\n",
              "3       0                   whole body feels itchy like fire\n",
              "4       0                        behaving i mad i cannot see\n",
              "5       0                                         whole crew\n",
              "6       0                                           need hug\n",
              "7       0  hey long time see ! yes rains bit bit laughing...\n",
              "8       0                                               nope\n",
              "9       0                                          que muera\n",
              "10      0                    spring break plain city snowing\n",
              "11      0                                   i repierced ears\n",
              "12      0  i could bear watch and i thought ua loss embar...\n",
              "13      0  it counts i do not know i either never talk an...\n",
              "14      0  would first gun really though zac snyders douc..."
            ]
          },
          "metadata": {
            "tags": []
          },
          "execution_count": 49
        }
      ]
    },
    {
      "cell_type": "markdown",
      "metadata": {
        "id": "EbB3ovpw8YTD"
      },
      "source": [
        "On peut observer que le texte est plus clair, mais il reste des espaces en trop."
      ]
    },
    {
      "cell_type": "code",
      "metadata": {
        "colab": {
          "base_uri": "https://localhost:8080/"
        },
        "id": "jphIMw8M7r7c",
        "outputId": "f0d94804-67f2-49e9-8971-26aa8c2ef519"
      },
      "source": [
        "tokenized_tweet = DF['tweet'].apply(lambda x: x.split())\r\n",
        "tokenized_tweet[:10]"
      ],
      "execution_count": 50,
      "outputs": [
        {
          "output_type": "execute_result",
          "data": {
            "text/plain": [
              "0    [awww, bummer, you, shoulda, got, david, carr,...\n",
              "1    [upset, cannot, update, facebook, texting, mig...\n",
              "2    [i, dived, many, times, ball, managed, save, t...\n",
              "3              [whole, body, feels, itchy, like, fire]\n",
              "4                   [behaving, i, mad, i, cannot, see]\n",
              "5                                        [whole, crew]\n",
              "6                                          [need, hug]\n",
              "7    [hey, long, time, see, !, yes, rains, bit, bit...\n",
              "8                                               [nope]\n",
              "9                                         [que, muera]\n",
              "Name: tweet, dtype: object"
            ]
          },
          "metadata": {
            "tags": []
          },
          "execution_count": 50
        }
      ]
    },
    {
      "cell_type": "code",
      "metadata": {
        "id": "a_WFrK8K9Ksz"
      },
      "source": [
        ""
      ],
      "execution_count": null,
      "outputs": []
    }
  ]
}